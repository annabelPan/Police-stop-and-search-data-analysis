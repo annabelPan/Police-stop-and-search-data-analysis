{
 "cells": [
  {
   "cell_type": "code",
   "execution_count": 205,
   "metadata": {},
   "outputs": [],
   "source": [
    "#Importing librairies\n",
    "\n",
    "import pandas as pd\n",
    "import numpy as np\n",
    "\n",
    "pd.set_option('display.max_rows', 500)\n",
    "pd.set_option('display.max_columns', 500)\n",
    "pd.set_option('display.width', 1000)\n",
    "\n",
    "\n",
    "\n",
    "import itertools\n",
    "\n",
    "# Matplotlib library to plot the charts\n",
    "import matplotlib.pyplot as plt\n",
    "import matplotlib.mlab as mlab\n",
    "import matplotlib as mpl\n",
    "\n",
    "# Library for the statistic data vizualisation\n",
    "import seaborn as sns\n",
    "\n",
    "\n",
    "# Scikit-learn library: \n",
    "from sklearn import preprocessing\n",
    "from sklearn.metrics import confusion_matrix\n",
    "from sklearn.metrics import classification_report\n",
    "import sklearn.metrics as metrics\n",
    "\n",
    "from sklearn.model_selection import GridSearchCV\n",
    "\n",
    "#Import time related library\n",
    "import datetime\n",
    "import requests\n",
    "import time"
   ]
  },
  {
   "cell_type": "code",
   "execution_count": 206,
   "metadata": {
    "scrolled": true
   },
   "outputs": [],
   "source": [
    "import os, glob\n",
    "path = r\"C:\\Users\\annab\\OneDrive\\Documents\\Python jobs\\Hertfordshire Crime data analysis\"\n",
    "all_files = glob.glob(os.path.join(path, \"2020-*.csv\"))\n",
    "\n",
    "df_from_each_file = (pd.read_csv(f, sep=',') for f in all_files)\n",
    "df_merged_2020   = pd.concat(df_from_each_file, ignore_index=True)\n",
    "df_merged_2020.to_csv( \"2020_merged_search and stop_data.csv\")"
   ]
  },
  {
   "cell_type": "code",
   "execution_count": 207,
   "metadata": {
    "scrolled": false
   },
   "outputs": [
    {
     "data": {
      "text/html": [
       "<div>\n",
       "<style scoped>\n",
       "    .dataframe tbody tr th:only-of-type {\n",
       "        vertical-align: middle;\n",
       "    }\n",
       "\n",
       "    .dataframe tbody tr th {\n",
       "        vertical-align: top;\n",
       "    }\n",
       "\n",
       "    .dataframe thead th {\n",
       "        text-align: right;\n",
       "    }\n",
       "</style>\n",
       "<table border=\"1\" class=\"dataframe\">\n",
       "  <thead>\n",
       "    <tr style=\"text-align: right;\">\n",
       "      <th></th>\n",
       "      <th>Type</th>\n",
       "      <th>Date</th>\n",
       "      <th>Part of a policing operation</th>\n",
       "      <th>Policing operation</th>\n",
       "      <th>Latitude</th>\n",
       "      <th>Longitude</th>\n",
       "      <th>Gender</th>\n",
       "      <th>Age range</th>\n",
       "      <th>Self-defined ethnicity</th>\n",
       "      <th>Officer-defined ethnicity</th>\n",
       "      <th>Legislation</th>\n",
       "      <th>Object of search</th>\n",
       "      <th>Outcome</th>\n",
       "      <th>Outcome linked to object of search</th>\n",
       "      <th>Removal of more than just outer clothing</th>\n",
       "    </tr>\n",
       "  </thead>\n",
       "  <tbody>\n",
       "    <tr>\n",
       "      <th>0</th>\n",
       "      <td>Person search</td>\n",
       "      <td>2020-01-01T03:55:00+00:00</td>\n",
       "      <td>False</td>\n",
       "      <td>NaN</td>\n",
       "      <td>NaN</td>\n",
       "      <td>NaN</td>\n",
       "      <td>Male</td>\n",
       "      <td>18-24</td>\n",
       "      <td>White - English/Welsh/Scottish/Northern Irish/...</td>\n",
       "      <td>White</td>\n",
       "      <td>Police and Criminal Evidence Act 1984 (section 1)</td>\n",
       "      <td>Article for use in theft</td>\n",
       "      <td>A no further action disposal</td>\n",
       "      <td>NaN</td>\n",
       "      <td>False</td>\n",
       "    </tr>\n",
       "    <tr>\n",
       "      <th>1</th>\n",
       "      <td>Person search</td>\n",
       "      <td>2020-01-01T04:18:00+00:00</td>\n",
       "      <td>False</td>\n",
       "      <td>NaN</td>\n",
       "      <td>51.725023</td>\n",
       "      <td>-0.302372</td>\n",
       "      <td>Male</td>\n",
       "      <td>10-17</td>\n",
       "      <td>White - English/Welsh/Scottish/Northern Irish/...</td>\n",
       "      <td>White</td>\n",
       "      <td>Police and Criminal Evidence Act 1984 (section 1)</td>\n",
       "      <td>Article for use in theft</td>\n",
       "      <td>Arrest</td>\n",
       "      <td>True</td>\n",
       "      <td>False</td>\n",
       "    </tr>\n",
       "    <tr>\n",
       "      <th>2</th>\n",
       "      <td>Person search</td>\n",
       "      <td>2020-01-01T07:15:28+00:00</td>\n",
       "      <td>False</td>\n",
       "      <td>NaN</td>\n",
       "      <td>NaN</td>\n",
       "      <td>NaN</td>\n",
       "      <td>Male</td>\n",
       "      <td>18-24</td>\n",
       "      <td>Asian/Asian British - Any other Asian background</td>\n",
       "      <td>Asian</td>\n",
       "      <td>Police and Criminal Evidence Act 1984 (section 1)</td>\n",
       "      <td>Article for use in theft</td>\n",
       "      <td>A no further action disposal</td>\n",
       "      <td>NaN</td>\n",
       "      <td>False</td>\n",
       "    </tr>\n",
       "    <tr>\n",
       "      <th>3</th>\n",
       "      <td>Vehicle search</td>\n",
       "      <td>2020-01-01T15:32:18+00:00</td>\n",
       "      <td>False</td>\n",
       "      <td>NaN</td>\n",
       "      <td>52.048457</td>\n",
       "      <td>-0.025856</td>\n",
       "      <td>NaN</td>\n",
       "      <td>NaN</td>\n",
       "      <td>NaN</td>\n",
       "      <td>NaN</td>\n",
       "      <td>Firearms Act 1968 (section 47)</td>\n",
       "      <td>Firearms</td>\n",
       "      <td>A no further action disposal</td>\n",
       "      <td>NaN</td>\n",
       "      <td>False</td>\n",
       "    </tr>\n",
       "    <tr>\n",
       "      <th>4</th>\n",
       "      <td>Person search</td>\n",
       "      <td>2020-01-01T19:49:00+00:00</td>\n",
       "      <td>True</td>\n",
       "      <td>NaN</td>\n",
       "      <td>NaN</td>\n",
       "      <td>NaN</td>\n",
       "      <td>Male</td>\n",
       "      <td>10-17</td>\n",
       "      <td>Mixed/Multiple ethnic groups - Any other Mixed...</td>\n",
       "      <td>Black</td>\n",
       "      <td>Police and Criminal Evidence Act 1984 (section 1)</td>\n",
       "      <td>Offensive weapons</td>\n",
       "      <td>A no further action disposal</td>\n",
       "      <td>NaN</td>\n",
       "      <td>False</td>\n",
       "    </tr>\n",
       "  </tbody>\n",
       "</table>\n",
       "</div>"
      ],
      "text/plain": [
       "             Type                       Date  Part of a policing operation  Policing operation   Latitude  Longitude Gender Age range                             Self-defined ethnicity Officer-defined ethnicity                                        Legislation          Object of search                       Outcome Outcome linked to object of search Removal of more than just outer clothing\n",
       "0   Person search  2020-01-01T03:55:00+00:00                         False                 NaN        NaN        NaN   Male     18-24  White - English/Welsh/Scottish/Northern Irish/...                     White  Police and Criminal Evidence Act 1984 (section 1)  Article for use in theft  A no further action disposal                                NaN                                    False\n",
       "1   Person search  2020-01-01T04:18:00+00:00                         False                 NaN  51.725023  -0.302372   Male     10-17  White - English/Welsh/Scottish/Northern Irish/...                     White  Police and Criminal Evidence Act 1984 (section 1)  Article for use in theft                        Arrest                               True                                    False\n",
       "2   Person search  2020-01-01T07:15:28+00:00                         False                 NaN        NaN        NaN   Male     18-24   Asian/Asian British - Any other Asian background                     Asian  Police and Criminal Evidence Act 1984 (section 1)  Article for use in theft  A no further action disposal                                NaN                                    False\n",
       "3  Vehicle search  2020-01-01T15:32:18+00:00                         False                 NaN  52.048457  -0.025856    NaN       NaN                                                NaN                       NaN                     Firearms Act 1968 (section 47)                  Firearms  A no further action disposal                                NaN                                    False\n",
       "4   Person search  2020-01-01T19:49:00+00:00                          True                 NaN        NaN        NaN   Male     10-17  Mixed/Multiple ethnic groups - Any other Mixed...                     Black  Police and Criminal Evidence Act 1984 (section 1)         Offensive weapons  A no further action disposal                                NaN                                    False"
      ]
     },
     "execution_count": 207,
     "metadata": {},
     "output_type": "execute_result"
    }
   ],
   "source": [
    "df_merged_2020.head(5)"
   ]
  },
  {
   "cell_type": "code",
   "execution_count": 208,
   "metadata": {},
   "outputs": [
    {
     "data": {
      "text/plain": [
       "Type                                           0\n",
       "Date                                           0\n",
       "Part of a policing operation                   0\n",
       "Policing operation                          9205\n",
       "Latitude                                    3124\n",
       "Longitude                                   3124\n",
       "Gender                                       403\n",
       "Age range                                    621\n",
       "Self-defined ethnicity                       574\n",
       "Officer-defined ethnicity                    590\n",
       "Legislation                                    0\n",
       "Object of search                               0\n",
       "Outcome                                        2\n",
       "Outcome linked to object of search          7013\n",
       "Removal of more than just outer clothing       9\n",
       "dtype: int64"
      ]
     },
     "execution_count": 208,
     "metadata": {},
     "output_type": "execute_result"
    }
   ],
   "source": [
    "df = df_merged_2020\n",
    "df.isnull().sum()"
   ]
  },
  {
   "cell_type": "markdown",
   "metadata": {},
   "source": [
    "### Dropping columns"
   ]
  },
  {
   "cell_type": "code",
   "execution_count": 209,
   "metadata": {},
   "outputs": [
    {
     "data": {
      "text/plain": [
       "(9205, 13)"
      ]
     },
     "execution_count": 209,
     "metadata": {},
     "output_type": "execute_result"
    }
   ],
   "source": [
    "\n",
    "# - 'Policing_operation' has no value so can be dropped.\n",
    "# - ' Outcome_linked_to_object_of_search' has too many missing value, so I will drop that colum as well\n",
    "\n",
    "df.drop(['Policing operation','Outcome linked to object of search'], axis='columns',inplace=True)\n",
    "df.shape"
   ]
  },
  {
   "cell_type": "markdown",
   "metadata": {},
   "source": [
    "### Dropping rows\n"
   ]
  },
  {
   "cell_type": "code",
   "execution_count": 210,
   "metadata": {},
   "outputs": [
    {
     "data": {
      "text/plain": [
       "Type                                           0\n",
       "Date                                           0\n",
       "Part of a policing operation                   0\n",
       "Latitude                                    3124\n",
       "Longitude                                   3124\n",
       "Gender                                       403\n",
       "Age range                                    621\n",
       "Self-defined ethnicity                       574\n",
       "Officer-defined ethnicity                    590\n",
       "Legislation                                    0\n",
       "Object of search                               0\n",
       "Outcome                                        2\n",
       "Removal of more than just outer clothing       9\n",
       "dtype: int64"
      ]
     },
     "execution_count": 210,
     "metadata": {},
     "output_type": "execute_result"
    }
   ],
   "source": [
    "df.isnull().sum()"
   ]
  },
  {
   "cell_type": "code",
   "execution_count": 211,
   "metadata": {},
   "outputs": [
    {
     "data": {
      "text/plain": [
       "Type                                           0\n",
       "Date                                           0\n",
       "Part of a policing operation                   0\n",
       "Latitude                                    2833\n",
       "Longitude                                   2833\n",
       "Gender                                         0\n",
       "Age range                                      0\n",
       "Self-defined ethnicity                         8\n",
       "Officer-defined ethnicity                      0\n",
       "Legislation                                    0\n",
       "Object of search                               0\n",
       "Outcome                                        2\n",
       "Removal of more than just outer clothing       8\n",
       "dtype: int64"
      ]
     },
     "execution_count": 211,
     "metadata": {},
     "output_type": "execute_result"
    }
   ],
   "source": [
    "# 'Gender' and 'Officer-defined_ethnicity' is important columns so we will only drop rows\n",
    "# 'Age range' shall be dropped because the wide range makes it hard to know\n",
    "\n",
    "df.dropna(subset=['Gender','Officer-defined ethnicity', 'Age range'],inplace=True)\n",
    "df.isnull().sum()"
   ]
  },
  {
   "cell_type": "markdown",
   "metadata": {},
   "source": [
    "### Exam the proper data type"
   ]
  },
  {
   "cell_type": "code",
   "execution_count": 212,
   "metadata": {},
   "outputs": [
    {
     "data": {
      "text/plain": [
       "Type                                         object\n",
       "Date                                         object\n",
       "Part of a policing operation                   bool\n",
       "Latitude                                    float64\n",
       "Longitude                                   float64\n",
       "Gender                                       object\n",
       "Age range                                    object\n",
       "Self-defined ethnicity                       object\n",
       "Officer-defined ethnicity                    object\n",
       "Legislation                                  object\n",
       "Object of search                             object\n",
       "Outcome                                      object\n",
       "Removal of more than just outer clothing     object\n",
       "dtype: object"
      ]
     },
     "execution_count": 212,
     "metadata": {},
     "output_type": "execute_result"
    }
   ],
   "source": [
    "df.dtypes"
   ]
  },
  {
   "cell_type": "markdown",
   "metadata": {},
   "source": [
    "### Observation from above\n",
    "- 'Date' shall be a datetime object\n",
    "- 'Removal of more than just outer clothing' shall be a boolean type"
   ]
  },
  {
   "cell_type": "code",
   "execution_count": 214,
   "metadata": {},
   "outputs": [
    {
     "data": {
      "text/plain": [
       "Type                                         object\n",
       "Date                                         object\n",
       "Part of a policing operation                   bool\n",
       "Latitude                                    float64\n",
       "Longitude                                   float64\n",
       "Gender                                       object\n",
       "Age range                                    object\n",
       "Self-defined ethnicity                       object\n",
       "Officer-defined ethnicity                    object\n",
       "Legislation                                  object\n",
       "Object of search                             object\n",
       "Outcome                                      object\n",
       "Removal of more than just outer clothing       bool\n",
       "dtype: object"
      ]
     },
     "execution_count": 214,
     "metadata": {},
     "output_type": "execute_result"
    }
   ],
   "source": [
    "df['Removal of more than just outer clothing'] = df['Removal of more than just outer clothing'].astype('bool')\n",
    "df.dtypes"
   ]
  },
  {
   "cell_type": "code",
   "execution_count": 215,
   "metadata": {},
   "outputs": [
    {
     "data": {
      "text/plain": [
       "Type                                                     object\n",
       "Date                                        datetime64[ns, UTC]\n",
       "Part of a policing operation                               bool\n",
       "Latitude                                                float64\n",
       "Longitude                                               float64\n",
       "Gender                                                   object\n",
       "Age range                                                object\n",
       "Self-defined ethnicity                                   object\n",
       "Officer-defined ethnicity                                object\n",
       "Legislation                                              object\n",
       "Object of search                                         object\n",
       "Outcome                                                  object\n",
       "Removal of more than just outer clothing                   bool\n",
       "dtype: object"
      ]
     },
     "execution_count": 215,
     "metadata": {},
     "output_type": "execute_result"
    }
   ],
   "source": [
    "# convert object to datetime object\n",
    "df['Date'] = pd.to_datetime(df['Date'])\n",
    "df.dtypes"
   ]
  },
  {
   "cell_type": "code",
   "execution_count": 216,
   "metadata": {},
   "outputs": [
    {
     "data": {
      "text/html": [
       "<div>\n",
       "<style scoped>\n",
       "    .dataframe tbody tr th:only-of-type {\n",
       "        vertical-align: middle;\n",
       "    }\n",
       "\n",
       "    .dataframe tbody tr th {\n",
       "        vertical-align: top;\n",
       "    }\n",
       "\n",
       "    .dataframe thead th {\n",
       "        text-align: right;\n",
       "    }\n",
       "</style>\n",
       "<table border=\"1\" class=\"dataframe\">\n",
       "  <thead>\n",
       "    <tr style=\"text-align: right;\">\n",
       "      <th></th>\n",
       "      <th>Type</th>\n",
       "      <th>Date</th>\n",
       "      <th>Part of a policing operation</th>\n",
       "      <th>Latitude</th>\n",
       "      <th>Longitude</th>\n",
       "      <th>Gender</th>\n",
       "      <th>Age range</th>\n",
       "      <th>Self-defined ethnicity</th>\n",
       "      <th>Officer-defined ethnicity</th>\n",
       "      <th>Legislation</th>\n",
       "      <th>Object of search</th>\n",
       "      <th>Outcome</th>\n",
       "      <th>Removal of more than just outer clothing</th>\n",
       "    </tr>\n",
       "  </thead>\n",
       "  <tbody>\n",
       "    <tr>\n",
       "      <th>0</th>\n",
       "      <td>Person search</td>\n",
       "      <td>2020-01-01 03:55:00+00:00</td>\n",
       "      <td>False</td>\n",
       "      <td>NaN</td>\n",
       "      <td>NaN</td>\n",
       "      <td>Male</td>\n",
       "      <td>18-24</td>\n",
       "      <td>White - English/Welsh/Scottish/Northern Irish/...</td>\n",
       "      <td>White</td>\n",
       "      <td>Police and Criminal Evidence Act 1984 (section 1)</td>\n",
       "      <td>Article for use in theft</td>\n",
       "      <td>A no further action disposal</td>\n",
       "      <td>False</td>\n",
       "    </tr>\n",
       "    <tr>\n",
       "      <th>1</th>\n",
       "      <td>Person search</td>\n",
       "      <td>2020-01-01 04:18:00+00:00</td>\n",
       "      <td>False</td>\n",
       "      <td>51.725023</td>\n",
       "      <td>-0.302372</td>\n",
       "      <td>Male</td>\n",
       "      <td>10-17</td>\n",
       "      <td>White - English/Welsh/Scottish/Northern Irish/...</td>\n",
       "      <td>White</td>\n",
       "      <td>Police and Criminal Evidence Act 1984 (section 1)</td>\n",
       "      <td>Article for use in theft</td>\n",
       "      <td>Arrest</td>\n",
       "      <td>False</td>\n",
       "    </tr>\n",
       "    <tr>\n",
       "      <th>2</th>\n",
       "      <td>Person search</td>\n",
       "      <td>2020-01-01 07:15:28+00:00</td>\n",
       "      <td>False</td>\n",
       "      <td>NaN</td>\n",
       "      <td>NaN</td>\n",
       "      <td>Male</td>\n",
       "      <td>18-24</td>\n",
       "      <td>Asian/Asian British - Any other Asian background</td>\n",
       "      <td>Asian</td>\n",
       "      <td>Police and Criminal Evidence Act 1984 (section 1)</td>\n",
       "      <td>Article for use in theft</td>\n",
       "      <td>A no further action disposal</td>\n",
       "      <td>False</td>\n",
       "    </tr>\n",
       "  </tbody>\n",
       "</table>\n",
       "</div>"
      ],
      "text/plain": [
       "            Type                      Date  Part of a policing operation   Latitude  Longitude Gender Age range                             Self-defined ethnicity Officer-defined ethnicity                                        Legislation          Object of search                       Outcome  Removal of more than just outer clothing\n",
       "0  Person search 2020-01-01 03:55:00+00:00                         False        NaN        NaN   Male     18-24  White - English/Welsh/Scottish/Northern Irish/...                     White  Police and Criminal Evidence Act 1984 (section 1)  Article for use in theft  A no further action disposal                                     False\n",
       "1  Person search 2020-01-01 04:18:00+00:00                         False  51.725023  -0.302372   Male     10-17  White - English/Welsh/Scottish/Northern Irish/...                     White  Police and Criminal Evidence Act 1984 (section 1)  Article for use in theft                        Arrest                                     False\n",
       "2  Person search 2020-01-01 07:15:28+00:00                         False        NaN        NaN   Male     18-24   Asian/Asian British - Any other Asian background                     Asian  Police and Criminal Evidence Act 1984 (section 1)  Article for use in theft  A no further action disposal                                     False"
      ]
     },
     "execution_count": 216,
     "metadata": {},
     "output_type": "execute_result"
    }
   ],
   "source": [
    "df.head(3)"
   ]
  },
  {
   "cell_type": "code",
   "execution_count": 217,
   "metadata": {},
   "outputs": [
    {
     "data": {
      "text/html": [
       "<div>\n",
       "<style scoped>\n",
       "    .dataframe tbody tr th:only-of-type {\n",
       "        vertical-align: middle;\n",
       "    }\n",
       "\n",
       "    .dataframe tbody tr th {\n",
       "        vertical-align: top;\n",
       "    }\n",
       "\n",
       "    .dataframe thead th {\n",
       "        text-align: right;\n",
       "    }\n",
       "</style>\n",
       "<table border=\"1\" class=\"dataframe\">\n",
       "  <thead>\n",
       "    <tr style=\"text-align: right;\">\n",
       "      <th></th>\n",
       "      <th>Type</th>\n",
       "      <th>Part of a policing operation</th>\n",
       "      <th>Latitude</th>\n",
       "      <th>Longitude</th>\n",
       "      <th>Gender</th>\n",
       "      <th>Age range</th>\n",
       "      <th>Self-defined ethnicity</th>\n",
       "      <th>Officer-defined ethnicity</th>\n",
       "      <th>Legislation</th>\n",
       "      <th>Object of search</th>\n",
       "      <th>Outcome</th>\n",
       "      <th>Removal of more than just outer clothing</th>\n",
       "    </tr>\n",
       "    <tr>\n",
       "      <th>Date</th>\n",
       "      <th></th>\n",
       "      <th></th>\n",
       "      <th></th>\n",
       "      <th></th>\n",
       "      <th></th>\n",
       "      <th></th>\n",
       "      <th></th>\n",
       "      <th></th>\n",
       "      <th></th>\n",
       "      <th></th>\n",
       "      <th></th>\n",
       "      <th></th>\n",
       "    </tr>\n",
       "  </thead>\n",
       "  <tbody>\n",
       "    <tr>\n",
       "      <th>2020-01-01 03:55:00+00:00</th>\n",
       "      <td>Person search</td>\n",
       "      <td>False</td>\n",
       "      <td>NaN</td>\n",
       "      <td>NaN</td>\n",
       "      <td>Male</td>\n",
       "      <td>18-24</td>\n",
       "      <td>White - English/Welsh/Scottish/Northern Irish/...</td>\n",
       "      <td>White</td>\n",
       "      <td>Police and Criminal Evidence Act 1984 (section 1)</td>\n",
       "      <td>Article for use in theft</td>\n",
       "      <td>A no further action disposal</td>\n",
       "      <td>False</td>\n",
       "    </tr>\n",
       "    <tr>\n",
       "      <th>2020-01-01 04:18:00+00:00</th>\n",
       "      <td>Person search</td>\n",
       "      <td>False</td>\n",
       "      <td>51.725023</td>\n",
       "      <td>-0.302372</td>\n",
       "      <td>Male</td>\n",
       "      <td>10-17</td>\n",
       "      <td>White - English/Welsh/Scottish/Northern Irish/...</td>\n",
       "      <td>White</td>\n",
       "      <td>Police and Criminal Evidence Act 1984 (section 1)</td>\n",
       "      <td>Article for use in theft</td>\n",
       "      <td>Arrest</td>\n",
       "      <td>False</td>\n",
       "    </tr>\n",
       "    <tr>\n",
       "      <th>2020-01-01 07:15:28+00:00</th>\n",
       "      <td>Person search</td>\n",
       "      <td>False</td>\n",
       "      <td>NaN</td>\n",
       "      <td>NaN</td>\n",
       "      <td>Male</td>\n",
       "      <td>18-24</td>\n",
       "      <td>Asian/Asian British - Any other Asian background</td>\n",
       "      <td>Asian</td>\n",
       "      <td>Police and Criminal Evidence Act 1984 (section 1)</td>\n",
       "      <td>Article for use in theft</td>\n",
       "      <td>A no further action disposal</td>\n",
       "      <td>False</td>\n",
       "    </tr>\n",
       "  </tbody>\n",
       "</table>\n",
       "</div>"
      ],
      "text/plain": [
       "                                    Type  Part of a policing operation   Latitude  Longitude Gender Age range                             Self-defined ethnicity Officer-defined ethnicity                                        Legislation          Object of search                       Outcome  Removal of more than just outer clothing\n",
       "Date                                                                                                                                                                                                                                                                                                                                           \n",
       "2020-01-01 03:55:00+00:00  Person search                         False        NaN        NaN   Male     18-24  White - English/Welsh/Scottish/Northern Irish/...                     White  Police and Criminal Evidence Act 1984 (section 1)  Article for use in theft  A no further action disposal                                     False\n",
       "2020-01-01 04:18:00+00:00  Person search                         False  51.725023  -0.302372   Male     10-17  White - English/Welsh/Scottish/Northern Irish/...                     White  Police and Criminal Evidence Act 1984 (section 1)  Article for use in theft                        Arrest                                     False\n",
       "2020-01-01 07:15:28+00:00  Person search                         False        NaN        NaN   Male     18-24   Asian/Asian British - Any other Asian background                     Asian  Police and Criminal Evidence Act 1984 (section 1)  Article for use in theft  A no further action disposal                                     False"
      ]
     },
     "execution_count": 217,
     "metadata": {},
     "output_type": "execute_result"
    }
   ],
   "source": [
    "# Set 'Date' as the index\n",
    "df.set_index('Date', inplace=True)\n",
    "df.head(3)"
   ]
  },
  {
   "cell_type": "markdown",
   "metadata": {},
   "source": [
    "## Data Analysis"
   ]
  },
  {
   "cell_type": "markdown",
   "metadata": {},
   "source": [
    "### Q1: Do the genders commit different violations?\n"
   ]
  },
  {
   "cell_type": "code",
   "execution_count": 218,
   "metadata": {},
   "outputs": [
    {
     "data": {
      "text/plain": [
       "Misuse of Drugs Act 1971 (section 23)                      0.660026\n",
       "Police and Criminal Evidence Act 1984 (section 1)          0.335202\n",
       "Firearms Act 1968 (section 47)                             0.002744\n",
       "Criminal Justice and Public Order Act 1994 (section 60)    0.000954\n",
       "Poaching Prevention Act 1862 (section 2)                   0.000596\n",
       "Psychoactive Substances Act 2016 (s36(2))                  0.000477\n",
       "Name: Legislation, dtype: float64"
      ]
     },
     "execution_count": 218,
     "metadata": {},
     "output_type": "execute_result"
    }
   ],
   "source": [
    "# First of all I will be looking into the overall violation rate \n",
    "\n",
    "df['Legislation'].value_counts(normalize=True)"
   ]
  },
  {
   "cell_type": "code",
   "execution_count": 219,
   "metadata": {},
   "outputs": [
    {
     "name": "stdout",
     "output_type": "stream",
     "text": [
      "Misuse of Drugs Act 1971 (section 23)                0.70000\n",
      "Police and Criminal Evidence Act 1984 (section 1)    0.29505\n",
      "Firearms Act 1968 (section 47)                       0.00396\n",
      "Psychoactive Substances Act 2016 (s36(2))            0.00099\n",
      "Name: Legislation, dtype: float64\n",
      "--------------------------------------------------------------------------------\n",
      "Misuse of Drugs Act 1971 (section 23)                      0.654550\n",
      "Police and Criminal Evidence Act 1984 (section 1)          0.340703\n",
      "Firearms Act 1968 (section 47)                             0.002577\n",
      "Criminal Justice and Public Order Act 1994 (section 60)    0.001085\n",
      "Poaching Prevention Act 1862 (section 2)                   0.000678\n",
      "Psychoactive Substances Act 2016 (s36(2))                  0.000407\n",
      "Name: Legislation, dtype: float64\n"
     ]
    }
   ],
   "source": [
    "# Compare violation done by gender\n",
    "\n",
    "female = df[df['Gender']=='Female']\n",
    "male = df[df['Gender']=='Male']\n",
    "\n",
    "print(female.Legislation.value_counts(normalize=True))\n",
    "print('-'*80)\n",
    "print(male.Legislation.value_counts(normalize=True))"
   ]
  },
  {
   "cell_type": "markdown",
   "metadata": {},
   "source": [
    "### Observation from above\n",
    "- 70% of female stop&search is for drug related while 65% of male stop&search is.\n",
    "- Within Female offendents, usage (percentage) of drugs is 5% higher than male usage(percentage)\n",
    "- Within Male offendent, the percentage of Police and Criminal Evidence Act 1984 (section 1) is 5% higher than female \n",
    "- We shall look into the number as well rather than just %"
   ]
  },
  {
   "cell_type": "code",
   "execution_count": 221,
   "metadata": {},
   "outputs": [
    {
     "name": "stdout",
     "output_type": "stream",
     "text": [
      "Misuse of Drugs Act 1971 (section 23)                707\n",
      "Police and Criminal Evidence Act 1984 (section 1)    298\n",
      "Firearms Act 1968 (section 47)                         4\n",
      "Psychoactive Substances Act 2016 (s36(2))              1\n",
      "Name: Legislation, dtype: int64\n",
      "--------------------------------------------------------------------------------\n",
      "Misuse of Drugs Act 1971 (section 23)                      4826\n",
      "Police and Criminal Evidence Act 1984 (section 1)          2512\n",
      "Firearms Act 1968 (section 47)                               19\n",
      "Criminal Justice and Public Order Act 1994 (section 60)       8\n",
      "Poaching Prevention Act 1862 (section 2)                      5\n",
      "Psychoactive Substances Act 2016 (s36(2))                     3\n",
      "Name: Legislation, dtype: int64\n"
     ]
    }
   ],
   "source": [
    "print(female.Legislation.value_counts())\n",
    "print('-'*80)\n",
    "print(male.Legislation.value_counts())"
   ]
  },
  {
   "cell_type": "markdown",
   "metadata": {},
   "source": [
    "### The observation above suggests\n",
    "- There was no case of female suspects violate 'offensive weapon'\n",
    "- Police stopped 6 times more male than female for violating drugs law\n",
    "- Police stopped nearly 9 times more male than female for violating police and criminal edidence act\n",
    "\n",
    "To answer the above question, yes gender commits different crime"
   ]
  },
  {
   "cell_type": "code",
   "execution_count": 223,
   "metadata": {},
   "outputs": [
    {
     "name": "stdout",
     "output_type": "stream",
     "text": [
      "A no further action disposal       578\n",
      "Community resolution                75\n",
      "Arrest                              40\n",
      "Summons / charged by post            5\n",
      "Penalty Notice for Disorder          4\n",
      "Khat or Cannabis warning             3\n",
      "Caution (simple or conditional)      2\n",
      "Name: Outcome, dtype: int64\n",
      "--------------------------------------------------------------------------------\n",
      "A no further action disposal       3460\n",
      "Community resolution                594\n",
      "Arrest                              493\n",
      "Summons / charged by post           161\n",
      "Khat or Cannabis warning             57\n",
      "Caution (simple or conditional)      42\n",
      "Penalty Notice for Disorder          17\n",
      "Name: Outcome, dtype: int64\n"
     ]
    }
   ],
   "source": [
    "### We shall also look into the police search outcome of female offendent whose crime was drug related\n",
    "female_drug = df[(df['Gender']=='Female') & (df['Legislation'] == 'Misuse of Drugs Act 1971 (section 23)')]\n",
    "print(female_drug.Outcome.value_counts())\n",
    "print('-'*80)\n",
    "male_drug = df[(df['Gender']=='Male') & (df['Legislation'] == 'Misuse of Drugs Act 1971 (section 23)')]\n",
    "print(male_drug.Outcome.value_counts())"
   ]
  },
  {
   "cell_type": "code",
   "execution_count": 224,
   "metadata": {},
   "outputs": [
    {
     "name": "stdout",
     "output_type": "stream",
     "text": [
      "A no further action disposal       0.817539\n",
      "Community resolution               0.106082\n",
      "Arrest                             0.056577\n",
      "Summons / charged by post          0.007072\n",
      "Penalty Notice for Disorder        0.005658\n",
      "Khat or Cannabis warning           0.004243\n",
      "Caution (simple or conditional)    0.002829\n",
      "Name: Outcome, dtype: float64\n",
      "--------------------------------------------------------------------------------\n",
      "A no further action disposal       0.717247\n",
      "Community resolution               0.123134\n",
      "Arrest                             0.102197\n",
      "Summons / charged by post          0.033375\n",
      "Khat or Cannabis warning           0.011816\n",
      "Caution (simple or conditional)    0.008706\n",
      "Penalty Notice for Disorder        0.003524\n",
      "Name: Outcome, dtype: float64\n"
     ]
    }
   ],
   "source": [
    "print(female_drug.Outcome.value_counts(normalize=True))\n",
    "print('-'*80)\n",
    "print(male_drug.Outcome.value_counts(normalize=True))"
   ]
  },
  {
   "cell_type": "markdown",
   "metadata": {},
   "source": [
    "### Observation from above\n",
    "- It is intersting to see that within the female drug suspects, only 20% of them are real vs 30% of male \n",
    "- The arrest rate of male suspect is twice as high as female \n",
    "- So the result suggests that gender does affect the arrest rate "
   ]
  },
  {
   "cell_type": "markdown",
   "metadata": {},
   "source": [
    "### Q2: If gender affect 'Removal of more than just outer clothing'"
   ]
  },
  {
   "cell_type": "code",
   "execution_count": 226,
   "metadata": {},
   "outputs": [
    {
     "data": {
      "text/plain": [
       "0.05988309674340928"
      ]
     },
     "execution_count": 226,
     "metadata": {},
     "output_type": "execute_result"
    }
   ],
   "source": [
    "df['Removal of more than just outer clothing'].mean() # Suggest only 6% suspects were asked to remove outer clothing"
   ]
  },
  {
   "cell_type": "code",
   "execution_count": 227,
   "metadata": {},
   "outputs": [
    {
     "data": {
      "text/plain": [
       "Gender\n",
       "Female    0.046535\n",
       "Male      0.061712\n",
       "Name: Removal of more than just outer clothing, dtype: float64"
      ]
     },
     "execution_count": 227,
     "metadata": {},
     "output_type": "execute_result"
    }
   ],
   "source": [
    "# Using groupby to see if gender related \n",
    "df.groupby(['Gender'])['Removal of more than just outer clothing'].mean() # Male is asked just 1.5 times compared with female"
   ]
  },
  {
   "cell_type": "code",
   "execution_count": 228,
   "metadata": {},
   "outputs": [
    {
     "data": {
      "text/plain": [
       "Gender  Legislation                                            \n",
       "Female  Firearms Act 1968 (section 47)                             0.000000\n",
       "        Misuse of Drugs Act 1971 (section 23)                      0.062235\n",
       "        Police and Criminal Evidence Act 1984 (section 1)          0.010067\n",
       "        Psychoactive Substances Act 2016 (s36(2))                  0.000000\n",
       "Male    Criminal Justice and Public Order Act 1994 (section 60)    0.250000\n",
       "        Firearms Act 1968 (section 47)                             0.000000\n",
       "        Misuse of Drugs Act 1971 (section 23)                      0.084749\n",
       "        Poaching Prevention Act 1862 (section 2)                   0.000000\n",
       "        Police and Criminal Evidence Act 1984 (section 1)          0.017516\n",
       "        Psychoactive Substances Act 2016 (s36(2))                  0.000000\n",
       "Name: Removal of more than just outer clothing, dtype: float64"
      ]
     },
     "execution_count": 228,
     "metadata": {},
     "output_type": "execute_result"
    }
   ],
   "source": [
    "df.groupby(['Gender','Legislation'])['Removal of more than just outer clothing'].mean()"
   ]
  },
  {
   "cell_type": "markdown",
   "metadata": {},
   "source": [
    "### Observation from above \n",
    "- It suggests that 25% of the time male suspects were asked to remove their outer clothes was due to 'Offensive weapon' reason."
   ]
  },
  {
   "cell_type": "markdown",
   "metadata": {},
   "source": [
    "### Q3 Ethnicity based Legislation"
   ]
  },
  {
   "cell_type": "code",
   "execution_count": 231,
   "metadata": {},
   "outputs": [
    {
     "data": {
      "text/plain": [
       "Misuse of Drugs Act 1971 (section 23)                      5533\n",
       "Police and Criminal Evidence Act 1984 (section 1)          2810\n",
       "Firearms Act 1968 (section 47)                               23\n",
       "Criminal Justice and Public Order Act 1994 (section 60)       8\n",
       "Poaching Prevention Act 1862 (section 2)                      5\n",
       "Psychoactive Substances Act 2016 (s36(2))                     4\n",
       "Name: Legislation, dtype: int64"
      ]
     },
     "execution_count": 231,
     "metadata": {},
     "output_type": "execute_result"
    }
   ],
   "source": [
    "\n",
    "\n",
    "df.Legislation.value_counts()"
   ]
  },
  {
   "cell_type": "code",
   "execution_count": 232,
   "metadata": {
    "scrolled": false
   },
   "outputs": [
    {
     "data": {
      "text/plain": [
       "White    0.713587\n",
       "Black    0.163665\n",
       "Asian    0.107479\n",
       "Other    0.015269\n",
       "Name: Officer-defined ethnicity, dtype: float64"
      ]
     },
     "execution_count": 232,
     "metadata": {},
     "output_type": "execute_result"
    }
   ],
   "source": [
    "df['Officer-defined ethnicity'].value_counts(normalize=True)"
   ]
  },
  {
   "cell_type": "markdown",
   "metadata": {},
   "source": [
    "- The above suggests that White suspects are 7 times as much as Black and Asian.And Black suspects are 6% higher than Asian \n"
   ]
  },
  {
   "cell_type": "code",
   "execution_count": 233,
   "metadata": {
    "scrolled": true
   },
   "outputs": [
    {
     "data": {
      "text/plain": [
       "A no further action disposal       0.759739\n",
       "Arrest                             0.106170\n",
       "Community resolution               0.092459\n",
       "Summons / charged by post          0.023909\n",
       "Khat or Cannabis warning           0.007858\n",
       "Caution (simple or conditional)    0.006688\n",
       "Penalty Notice for Disorder        0.003177\n",
       "Name: Outcome, dtype: float64"
      ]
     },
     "execution_count": 233,
     "metadata": {},
     "output_type": "execute_result"
    }
   ],
   "source": [
    "White['Outcome'].value_counts(normalize=True)"
   ]
  },
  {
   "cell_type": "code",
   "execution_count": null,
   "metadata": {
    "scrolled": false
   },
   "outputs": [],
   "source": [
    "Asian['Outcome'].value_counts(normalize=True)"
   ]
  },
  {
   "cell_type": "code",
   "execution_count": 234,
   "metadata": {},
   "outputs": [
    {
     "data": {
      "text/plain": [
       "A no further action disposal       0.752006\n",
       "Arrest                             0.128373\n",
       "Community resolution               0.075128\n",
       "Summons / charged by post          0.027717\n",
       "Khat or Cannabis warning           0.010212\n",
       "Penalty Notice for Disorder        0.004376\n",
       "Caution (simple or conditional)    0.002188\n",
       "Name: Outcome, dtype: float64"
      ]
     },
     "execution_count": 234,
     "metadata": {},
     "output_type": "execute_result"
    }
   ],
   "source": [
    "Black=df[df['Officer-defined ethnicity']=='Black']\n",
    "Black['Outcome'].value_counts(normalize=True)"
   ]
  },
  {
   "cell_type": "code",
   "execution_count": null,
   "metadata": {},
   "outputs": [],
   "source": [
    "### Observation: \n",
    "\n",
    "-The above suggests that the subsequent clear up rate seems to be the same/similar across Asian, Black, White. "
   ]
  },
  {
   "cell_type": "code",
   "execution_count": null,
   "metadata": {},
   "outputs": [],
   "source": []
  },
  {
   "cell_type": "code",
   "execution_count": null,
   "metadata": {},
   "outputs": [],
   "source": []
  },
  {
   "cell_type": "code",
   "execution_count": 289,
   "metadata": {
    "scrolled": false
   },
   "outputs": [
    {
     "data": {
      "text/plain": [
       "Asian/Asian British - Any other Asian background                                        0.338889\n",
       "Other ethnic group - Not stated                                                         0.273333\n",
       "Asian/Asian British - Pakistani                                                         0.196667\n",
       "Asian/Asian British - Bangladeshi                                                       0.042222\n",
       "Mixed/Multiple ethnic groups - White and Asian                                          0.037778\n",
       "Asian/Asian British - Indian                                                            0.032222\n",
       "Other ethnic group - Any other ethnic group                                             0.025556\n",
       "Mixed/Multiple ethnic groups - Any other Mixed/Multiple ethnic background               0.023333\n",
       "White - English/Welsh/Scottish/Northern Irish/British                                   0.012222\n",
       "Black/African/Caribbean/Black British - African                                         0.006667\n",
       "White - Any other White background                                                      0.003333\n",
       "Black/African/Caribbean/Black British - Any other Black/African/Caribbean background    0.003333\n",
       "Other ethnic group - Arab                                                               0.002222\n",
       "White - Irish                                                                           0.001111\n",
       "Asian/Asian British - Chinese                                                           0.001111\n",
       "Name: Self-defined ethnicity, dtype: float64"
      ]
     },
     "execution_count": 289,
     "metadata": {},
     "output_type": "execute_result"
    }
   ],
   "source": [
    "Asian['Self-defined ethnicity'].value_counts(normalize=True)"
   ]
  },
  {
   "cell_type": "code",
   "execution_count": 236,
   "metadata": {},
   "outputs": [
    {
     "data": {
      "text/html": [
       "<div>\n",
       "<style scoped>\n",
       "    .dataframe tbody tr th:only-of-type {\n",
       "        vertical-align: middle;\n",
       "    }\n",
       "\n",
       "    .dataframe tbody tr th {\n",
       "        vertical-align: top;\n",
       "    }\n",
       "\n",
       "    .dataframe thead th {\n",
       "        text-align: right;\n",
       "    }\n",
       "</style>\n",
       "<table border=\"1\" class=\"dataframe\">\n",
       "  <thead>\n",
       "    <tr style=\"text-align: right;\">\n",
       "      <th>Outcome</th>\n",
       "      <th>A no further action disposal</th>\n",
       "      <th>Arrest</th>\n",
       "      <th>Caution (simple or conditional)</th>\n",
       "      <th>Community resolution</th>\n",
       "      <th>Khat or Cannabis warning</th>\n",
       "      <th>Penalty Notice for Disorder</th>\n",
       "      <th>Summons / charged by post</th>\n",
       "    </tr>\n",
       "    <tr>\n",
       "      <th>Self-defined ethnicity</th>\n",
       "      <th></th>\n",
       "      <th></th>\n",
       "      <th></th>\n",
       "      <th></th>\n",
       "      <th></th>\n",
       "      <th></th>\n",
       "      <th></th>\n",
       "    </tr>\n",
       "  </thead>\n",
       "  <tbody>\n",
       "    <tr>\n",
       "      <th>Asian/Asian British - Any other Asian background</th>\n",
       "      <td>0.737705</td>\n",
       "      <td>0.098361</td>\n",
       "      <td>0.003279</td>\n",
       "      <td>0.114754</td>\n",
       "      <td>0.016393</td>\n",
       "      <td>0.000000</td>\n",
       "      <td>0.029508</td>\n",
       "    </tr>\n",
       "    <tr>\n",
       "      <th>Asian/Asian British - Bangladeshi</th>\n",
       "      <td>0.605263</td>\n",
       "      <td>0.289474</td>\n",
       "      <td>0.026316</td>\n",
       "      <td>0.078947</td>\n",
       "      <td>0.000000</td>\n",
       "      <td>0.000000</td>\n",
       "      <td>0.000000</td>\n",
       "    </tr>\n",
       "    <tr>\n",
       "      <th>Asian/Asian British - Chinese</th>\n",
       "      <td>0.000000</td>\n",
       "      <td>0.000000</td>\n",
       "      <td>0.000000</td>\n",
       "      <td>1.000000</td>\n",
       "      <td>0.000000</td>\n",
       "      <td>0.000000</td>\n",
       "      <td>0.000000</td>\n",
       "    </tr>\n",
       "    <tr>\n",
       "      <th>Asian/Asian British - Indian</th>\n",
       "      <td>0.758621</td>\n",
       "      <td>0.172414</td>\n",
       "      <td>0.000000</td>\n",
       "      <td>0.068966</td>\n",
       "      <td>0.000000</td>\n",
       "      <td>0.000000</td>\n",
       "      <td>0.000000</td>\n",
       "    </tr>\n",
       "    <tr>\n",
       "      <th>Asian/Asian British - Pakistani</th>\n",
       "      <td>0.700565</td>\n",
       "      <td>0.203390</td>\n",
       "      <td>0.011299</td>\n",
       "      <td>0.050847</td>\n",
       "      <td>0.000000</td>\n",
       "      <td>0.000000</td>\n",
       "      <td>0.033898</td>\n",
       "    </tr>\n",
       "    <tr>\n",
       "      <th>Black/African/Caribbean/Black British - African</th>\n",
       "      <td>0.833333</td>\n",
       "      <td>0.166667</td>\n",
       "      <td>0.000000</td>\n",
       "      <td>0.000000</td>\n",
       "      <td>0.000000</td>\n",
       "      <td>0.000000</td>\n",
       "      <td>0.000000</td>\n",
       "    </tr>\n",
       "    <tr>\n",
       "      <th>Black/African/Caribbean/Black British - Any other Black/African/Caribbean background</th>\n",
       "      <td>1.000000</td>\n",
       "      <td>0.000000</td>\n",
       "      <td>0.000000</td>\n",
       "      <td>0.000000</td>\n",
       "      <td>0.000000</td>\n",
       "      <td>0.000000</td>\n",
       "      <td>0.000000</td>\n",
       "    </tr>\n",
       "    <tr>\n",
       "      <th>Mixed/Multiple ethnic groups - Any other Mixed/Multiple ethnic background</th>\n",
       "      <td>0.714286</td>\n",
       "      <td>0.142857</td>\n",
       "      <td>0.000000</td>\n",
       "      <td>0.095238</td>\n",
       "      <td>0.047619</td>\n",
       "      <td>0.000000</td>\n",
       "      <td>0.000000</td>\n",
       "    </tr>\n",
       "    <tr>\n",
       "      <th>Mixed/Multiple ethnic groups - White and Asian</th>\n",
       "      <td>0.647059</td>\n",
       "      <td>0.205882</td>\n",
       "      <td>0.000000</td>\n",
       "      <td>0.088235</td>\n",
       "      <td>0.000000</td>\n",
       "      <td>0.029412</td>\n",
       "      <td>0.029412</td>\n",
       "    </tr>\n",
       "    <tr>\n",
       "      <th>Other ethnic group - Any other ethnic group</th>\n",
       "      <td>0.782609</td>\n",
       "      <td>0.130435</td>\n",
       "      <td>0.000000</td>\n",
       "      <td>0.086957</td>\n",
       "      <td>0.000000</td>\n",
       "      <td>0.000000</td>\n",
       "      <td>0.000000</td>\n",
       "    </tr>\n",
       "    <tr>\n",
       "      <th>Other ethnic group - Arab</th>\n",
       "      <td>0.500000</td>\n",
       "      <td>0.000000</td>\n",
       "      <td>0.000000</td>\n",
       "      <td>0.500000</td>\n",
       "      <td>0.000000</td>\n",
       "      <td>0.000000</td>\n",
       "      <td>0.000000</td>\n",
       "    </tr>\n",
       "    <tr>\n",
       "      <th>Other ethnic group - Not stated</th>\n",
       "      <td>0.808943</td>\n",
       "      <td>0.069106</td>\n",
       "      <td>0.012195</td>\n",
       "      <td>0.089431</td>\n",
       "      <td>0.004065</td>\n",
       "      <td>0.000000</td>\n",
       "      <td>0.016260</td>\n",
       "    </tr>\n",
       "    <tr>\n",
       "      <th>White - Any other White background</th>\n",
       "      <td>0.666667</td>\n",
       "      <td>0.000000</td>\n",
       "      <td>0.000000</td>\n",
       "      <td>0.000000</td>\n",
       "      <td>0.000000</td>\n",
       "      <td>0.000000</td>\n",
       "      <td>0.333333</td>\n",
       "    </tr>\n",
       "    <tr>\n",
       "      <th>White - English/Welsh/Scottish/Northern Irish/British</th>\n",
       "      <td>0.909091</td>\n",
       "      <td>0.000000</td>\n",
       "      <td>0.000000</td>\n",
       "      <td>0.090909</td>\n",
       "      <td>0.000000</td>\n",
       "      <td>0.000000</td>\n",
       "      <td>0.000000</td>\n",
       "    </tr>\n",
       "    <tr>\n",
       "      <th>White - Irish</th>\n",
       "      <td>1.000000</td>\n",
       "      <td>0.000000</td>\n",
       "      <td>0.000000</td>\n",
       "      <td>0.000000</td>\n",
       "      <td>0.000000</td>\n",
       "      <td>0.000000</td>\n",
       "      <td>0.000000</td>\n",
       "    </tr>\n",
       "  </tbody>\n",
       "</table>\n",
       "</div>"
      ],
      "text/plain": [
       "Outcome                                             A no further action disposal    Arrest  Caution (simple or conditional)  Community resolution  Khat or Cannabis warning  Penalty Notice for Disorder  Summons / charged by post\n",
       "Self-defined ethnicity                                                                                                                                                                                                             \n",
       "Asian/Asian British - Any other Asian background                        0.737705  0.098361                         0.003279              0.114754                  0.016393                     0.000000                   0.029508\n",
       "Asian/Asian British - Bangladeshi                                       0.605263  0.289474                         0.026316              0.078947                  0.000000                     0.000000                   0.000000\n",
       "Asian/Asian British - Chinese                                           0.000000  0.000000                         0.000000              1.000000                  0.000000                     0.000000                   0.000000\n",
       "Asian/Asian British - Indian                                            0.758621  0.172414                         0.000000              0.068966                  0.000000                     0.000000                   0.000000\n",
       "Asian/Asian British - Pakistani                                         0.700565  0.203390                         0.011299              0.050847                  0.000000                     0.000000                   0.033898\n",
       "Black/African/Caribbean/Black British - African                         0.833333  0.166667                         0.000000              0.000000                  0.000000                     0.000000                   0.000000\n",
       "Black/African/Caribbean/Black British - Any oth...                      1.000000  0.000000                         0.000000              0.000000                  0.000000                     0.000000                   0.000000\n",
       "Mixed/Multiple ethnic groups - Any other Mixed/...                      0.714286  0.142857                         0.000000              0.095238                  0.047619                     0.000000                   0.000000\n",
       "Mixed/Multiple ethnic groups - White and Asian                          0.647059  0.205882                         0.000000              0.088235                  0.000000                     0.029412                   0.029412\n",
       "Other ethnic group - Any other ethnic group                             0.782609  0.130435                         0.000000              0.086957                  0.000000                     0.000000                   0.000000\n",
       "Other ethnic group - Arab                                               0.500000  0.000000                         0.000000              0.500000                  0.000000                     0.000000                   0.000000\n",
       "Other ethnic group - Not stated                                         0.808943  0.069106                         0.012195              0.089431                  0.004065                     0.000000                   0.016260\n",
       "White - Any other White background                                      0.666667  0.000000                         0.000000              0.000000                  0.000000                     0.000000                   0.333333\n",
       "White - English/Welsh/Scottish/Northern Irish/B...                      0.909091  0.000000                         0.000000              0.090909                  0.000000                     0.000000                   0.000000\n",
       "White - Irish                                                           1.000000  0.000000                         0.000000              0.000000                  0.000000                     0.000000                   0.000000"
      ]
     },
     "execution_count": 236,
     "metadata": {},
     "output_type": "execute_result"
    }
   ],
   "source": [
    "pd.crosstab(Asian['Self-defined ethnicity'], Asian['Outcome'],normalize='index')"
   ]
  },
  {
   "cell_type": "code",
   "execution_count": 237,
   "metadata": {},
   "outputs": [],
   "source": [
    "Asian.to_csv('Asian.csv')"
   ]
  },
  {
   "cell_type": "markdown",
   "metadata": {},
   "source": [
    "### Observation from above shows: \n",
    "- Out of all the Asian suspects, 'Pakistani' is 5 times as 'Bangladeshi', and 6 times as 'Indian'\n",
    "- Chinese has the lowest percentage. \n",
    "- The reason for this could be down to education.\n"
   ]
  },
  {
   "cell_type": "code",
   "execution_count": 238,
   "metadata": {},
   "outputs": [
    {
     "data": {
      "text/plain": [
       "White - English/Welsh/Scottish/Northern Irish/British                                   0.778856\n",
       "Other ethnic group - Not stated                                                         0.100870\n",
       "White - Any other White background                                                      0.086818\n",
       "White - Irish                                                                           0.012379\n",
       "Mixed/Multiple ethnic groups - Any other Mixed/Multiple ethnic background               0.005855\n",
       "Other ethnic group - Any other ethnic group                                             0.005688\n",
       "Mixed/Multiple ethnic groups - White and Black Caribbean                                0.002509\n",
       "Black/African/Caribbean/Black British - Any other Black/African/Caribbean background    0.002342\n",
       "Mixed/Multiple ethnic groups - White and Asian                                          0.001506\n",
       "White - Gypsy or Irish Traveller                                                        0.001338\n",
       "Black/African/Caribbean/Black British - African                                         0.000836\n",
       "Asian/Asian British - Any other Asian background                                        0.000669\n",
       "Mixed/Multiple ethnic groups - White and Black African                                  0.000167\n",
       "Asian/Asian British - Pakistani                                                         0.000167\n",
       "Name: Self-defined ethnicity, dtype: float64"
      ]
     },
     "execution_count": 238,
     "metadata": {},
     "output_type": "execute_result"
    }
   ],
   "source": [
    "# I want to break down White suspects Eithinicity\n",
    "White = df[df['Officer-defined ethnicity']=='White']\n",
    "White['Self-defined ethnicity'].value_counts(normalize=True)"
   ]
  },
  {
   "cell_type": "markdown",
   "metadata": {},
   "source": [
    "### Observation\n",
    "- The above suggests that majority of White suspects are from local"
   ]
  },
  {
   "cell_type": "code",
   "execution_count": null,
   "metadata": {},
   "outputs": [],
   "source": []
  },
  {
   "cell_type": "code",
   "execution_count": 239,
   "metadata": {},
   "outputs": [
    {
     "data": {
      "text/plain": [
       "Officer-defined ethnicity  Legislation                                            \n",
       "Asian                      Misuse of Drugs Act 1971 (section 23)                      0.764706\n",
       "                           Police and Criminal Evidence Act 1984 (section 1)          0.230855\n",
       "                           Firearms Act 1968 (section 47)                             0.003330\n",
       "                           Criminal Justice and Public Order Act 1994 (section 60)    0.001110\n",
       "Black                      Misuse of Drugs Act 1971 (section 23)                      0.680758\n",
       "                           Police and Criminal Evidence Act 1984 (section 1)          0.314140\n",
       "                           Criminal Justice and Public Order Act 1994 (section 60)    0.004373\n",
       "                           Firearms Act 1968 (section 47)                             0.000729\n",
       "Other                      Misuse of Drugs Act 1971 (section 23)                      0.671875\n",
       "                           Police and Criminal Evidence Act 1984 (section 1)          0.328125\n",
       "White                      Misuse of Drugs Act 1971 (section 23)                      0.639251\n",
       "                           Police and Criminal Evidence Act 1984 (section 1)          0.355901\n",
       "                           Firearms Act 1968 (section 47)                             0.003176\n",
       "                           Poaching Prevention Act 1862 (section 2)                   0.000836\n",
       "                           Psychoactive Substances Act 2016 (s36(2))                  0.000669\n",
       "                           Criminal Justice and Public Order Act 1994 (section 60)    0.000167\n",
       "Name: Legislation, dtype: float64"
      ]
     },
     "execution_count": 239,
     "metadata": {},
     "output_type": "execute_result"
    }
   ],
   "source": [
    "df.groupby('Officer-defined ethnicity').Legislation.value_counts(normalize=True)"
   ]
  },
  {
   "cell_type": "code",
   "execution_count": 240,
   "metadata": {},
   "outputs": [
    {
     "data": {
      "text/html": [
       "<div>\n",
       "<style scoped>\n",
       "    .dataframe tbody tr th:only-of-type {\n",
       "        vertical-align: middle;\n",
       "    }\n",
       "\n",
       "    .dataframe tbody tr th {\n",
       "        vertical-align: top;\n",
       "    }\n",
       "\n",
       "    .dataframe thead th {\n",
       "        text-align: right;\n",
       "    }\n",
       "</style>\n",
       "<table border=\"1\" class=\"dataframe\">\n",
       "  <thead>\n",
       "    <tr style=\"text-align: right;\">\n",
       "      <th>Legislation</th>\n",
       "      <th>Criminal Justice and Public Order Act 1994 (section 60)</th>\n",
       "      <th>Firearms Act 1968 (section 47)</th>\n",
       "      <th>Misuse of Drugs Act 1971 (section 23)</th>\n",
       "      <th>Poaching Prevention Act 1862 (section 2)</th>\n",
       "      <th>Police and Criminal Evidence Act 1984 (section 1)</th>\n",
       "      <th>Psychoactive Substances Act 2016 (s36(2))</th>\n",
       "    </tr>\n",
       "    <tr>\n",
       "      <th>Officer-defined ethnicity</th>\n",
       "      <th></th>\n",
       "      <th></th>\n",
       "      <th></th>\n",
       "      <th></th>\n",
       "      <th></th>\n",
       "      <th></th>\n",
       "    </tr>\n",
       "  </thead>\n",
       "  <tbody>\n",
       "    <tr>\n",
       "      <th>Asian</th>\n",
       "      <td>1</td>\n",
       "      <td>3</td>\n",
       "      <td>689</td>\n",
       "      <td>0</td>\n",
       "      <td>208</td>\n",
       "      <td>0</td>\n",
       "    </tr>\n",
       "    <tr>\n",
       "      <th>Black</th>\n",
       "      <td>6</td>\n",
       "      <td>1</td>\n",
       "      <td>934</td>\n",
       "      <td>0</td>\n",
       "      <td>431</td>\n",
       "      <td>0</td>\n",
       "    </tr>\n",
       "    <tr>\n",
       "      <th>Other</th>\n",
       "      <td>0</td>\n",
       "      <td>0</td>\n",
       "      <td>86</td>\n",
       "      <td>0</td>\n",
       "      <td>42</td>\n",
       "      <td>0</td>\n",
       "    </tr>\n",
       "    <tr>\n",
       "      <th>White</th>\n",
       "      <td>1</td>\n",
       "      <td>19</td>\n",
       "      <td>3824</td>\n",
       "      <td>5</td>\n",
       "      <td>2129</td>\n",
       "      <td>4</td>\n",
       "    </tr>\n",
       "  </tbody>\n",
       "</table>\n",
       "</div>"
      ],
      "text/plain": [
       "Legislation                Criminal Justice and Public Order Act 1994 (section 60)  Firearms Act 1968 (section 47)  Misuse of Drugs Act 1971 (section 23)  Poaching Prevention Act 1862 (section 2)  Police and Criminal Evidence Act 1984 (section 1)  Psychoactive Substances Act 2016 (s36(2))\n",
       "Officer-defined ethnicity                                                                                                                                                                                                                                                                        \n",
       "Asian                                                                      1                                     3                                    689                                         0                                                208                                          0\n",
       "Black                                                                      6                                     1                                    934                                         0                                                431                                          0\n",
       "Other                                                                      0                                     0                                     86                                         0                                                 42                                          0\n",
       "White                                                                      1                                    19                                   3824                                         5                                               2129                                          4"
      ]
     },
     "execution_count": 240,
     "metadata": {},
     "output_type": "execute_result"
    }
   ],
   "source": [
    "pd.crosstab(df['Officer-defined ethnicity'], df['Legislation'])"
   ]
  },
  {
   "cell_type": "code",
   "execution_count": 241,
   "metadata": {
    "scrolled": false
   },
   "outputs": [
    {
     "data": {
      "text/html": [
       "<div>\n",
       "<style scoped>\n",
       "    .dataframe tbody tr th:only-of-type {\n",
       "        vertical-align: middle;\n",
       "    }\n",
       "\n",
       "    .dataframe tbody tr th {\n",
       "        vertical-align: top;\n",
       "    }\n",
       "\n",
       "    .dataframe thead th {\n",
       "        text-align: right;\n",
       "    }\n",
       "</style>\n",
       "<table border=\"1\" class=\"dataframe\">\n",
       "  <thead>\n",
       "    <tr style=\"text-align: right;\">\n",
       "      <th>Legislation</th>\n",
       "      <th>Criminal Justice and Public Order Act 1994 (section 60)</th>\n",
       "      <th>Firearms Act 1968 (section 47)</th>\n",
       "      <th>Misuse of Drugs Act 1971 (section 23)</th>\n",
       "      <th>Poaching Prevention Act 1862 (section 2)</th>\n",
       "      <th>Police and Criminal Evidence Act 1984 (section 1)</th>\n",
       "      <th>Psychoactive Substances Act 2016 (s36(2))</th>\n",
       "    </tr>\n",
       "    <tr>\n",
       "      <th>Officer-defined ethnicity</th>\n",
       "      <th></th>\n",
       "      <th></th>\n",
       "      <th></th>\n",
       "      <th></th>\n",
       "      <th></th>\n",
       "      <th></th>\n",
       "    </tr>\n",
       "  </thead>\n",
       "  <tbody>\n",
       "    <tr>\n",
       "      <th>Asian</th>\n",
       "      <td>0.001110</td>\n",
       "      <td>0.003330</td>\n",
       "      <td>0.764706</td>\n",
       "      <td>0.000000</td>\n",
       "      <td>0.230855</td>\n",
       "      <td>0.000000</td>\n",
       "    </tr>\n",
       "    <tr>\n",
       "      <th>Black</th>\n",
       "      <td>0.004373</td>\n",
       "      <td>0.000729</td>\n",
       "      <td>0.680758</td>\n",
       "      <td>0.000000</td>\n",
       "      <td>0.314140</td>\n",
       "      <td>0.000000</td>\n",
       "    </tr>\n",
       "    <tr>\n",
       "      <th>Other</th>\n",
       "      <td>0.000000</td>\n",
       "      <td>0.000000</td>\n",
       "      <td>0.671875</td>\n",
       "      <td>0.000000</td>\n",
       "      <td>0.328125</td>\n",
       "      <td>0.000000</td>\n",
       "    </tr>\n",
       "    <tr>\n",
       "      <th>White</th>\n",
       "      <td>0.000167</td>\n",
       "      <td>0.003176</td>\n",
       "      <td>0.639251</td>\n",
       "      <td>0.000836</td>\n",
       "      <td>0.355901</td>\n",
       "      <td>0.000669</td>\n",
       "    </tr>\n",
       "  </tbody>\n",
       "</table>\n",
       "</div>"
      ],
      "text/plain": [
       "Legislation                Criminal Justice and Public Order Act 1994 (section 60)  Firearms Act 1968 (section 47)  Misuse of Drugs Act 1971 (section 23)  Poaching Prevention Act 1862 (section 2)  Police and Criminal Evidence Act 1984 (section 1)  Psychoactive Substances Act 2016 (s36(2))\n",
       "Officer-defined ethnicity                                                                                                                                                                                                                                                                        \n",
       "Asian                                                               0.001110                              0.003330                               0.764706                                  0.000000                                           0.230855                                   0.000000\n",
       "Black                                                               0.004373                              0.000729                               0.680758                                  0.000000                                           0.314140                                   0.000000\n",
       "Other                                                               0.000000                              0.000000                               0.671875                                  0.000000                                           0.328125                                   0.000000\n",
       "White                                                               0.000167                              0.003176                               0.639251                                  0.000836                                           0.355901                                   0.000669"
      ]
     },
     "execution_count": 241,
     "metadata": {},
     "output_type": "execute_result"
    }
   ],
   "source": [
    "pd.crosstab(df['Officer-defined ethnicity'], df['Legislation'],normalize='index')"
   ]
  },
  {
   "cell_type": "markdown",
   "metadata": {},
   "source": [
    "### Observation from above\n",
    "- Majority legislation is drug use related. Highest among Asian background and lowest in White background. \n",
    "- In Police and Criminal Evidence, White has higher % as well as number compared with other races. "
   ]
  },
  {
   "cell_type": "markdown",
   "metadata": {},
   "source": [
    "### Q4: Does time of day affect arrest rate?"
   ]
  },
  {
   "cell_type": "code",
   "execution_count": 242,
   "metadata": {},
   "outputs": [
    {
     "data": {
      "text/html": [
       "<div>\n",
       "<style scoped>\n",
       "    .dataframe tbody tr th:only-of-type {\n",
       "        vertical-align: middle;\n",
       "    }\n",
       "\n",
       "    .dataframe tbody tr th {\n",
       "        vertical-align: top;\n",
       "    }\n",
       "\n",
       "    .dataframe thead th {\n",
       "        text-align: right;\n",
       "    }\n",
       "</style>\n",
       "<table border=\"1\" class=\"dataframe\">\n",
       "  <thead>\n",
       "    <tr style=\"text-align: right;\">\n",
       "      <th></th>\n",
       "      <th>Date</th>\n",
       "      <th>Type</th>\n",
       "      <th>Part of a policing operation</th>\n",
       "      <th>Latitude</th>\n",
       "      <th>Longitude</th>\n",
       "      <th>Gender</th>\n",
       "      <th>Age range</th>\n",
       "      <th>Self-defined ethnicity</th>\n",
       "      <th>Officer-defined ethnicity</th>\n",
       "      <th>Legislation</th>\n",
       "      <th>Object of search</th>\n",
       "      <th>Outcome</th>\n",
       "      <th>Removal of more than just outer clothing</th>\n",
       "    </tr>\n",
       "  </thead>\n",
       "  <tbody>\n",
       "    <tr>\n",
       "      <th>0</th>\n",
       "      <td>2020-01-01 03:55:00+00:00</td>\n",
       "      <td>Person search</td>\n",
       "      <td>False</td>\n",
       "      <td>NaN</td>\n",
       "      <td>NaN</td>\n",
       "      <td>Male</td>\n",
       "      <td>18-24</td>\n",
       "      <td>White - English/Welsh/Scottish/Northern Irish/...</td>\n",
       "      <td>White</td>\n",
       "      <td>Police and Criminal Evidence Act 1984 (section 1)</td>\n",
       "      <td>Article for use in theft</td>\n",
       "      <td>A no further action disposal</td>\n",
       "      <td>False</td>\n",
       "    </tr>\n",
       "    <tr>\n",
       "      <th>1</th>\n",
       "      <td>2020-01-01 04:18:00+00:00</td>\n",
       "      <td>Person search</td>\n",
       "      <td>False</td>\n",
       "      <td>51.725023</td>\n",
       "      <td>-0.302372</td>\n",
       "      <td>Male</td>\n",
       "      <td>10-17</td>\n",
       "      <td>White - English/Welsh/Scottish/Northern Irish/...</td>\n",
       "      <td>White</td>\n",
       "      <td>Police and Criminal Evidence Act 1984 (section 1)</td>\n",
       "      <td>Article for use in theft</td>\n",
       "      <td>Arrest</td>\n",
       "      <td>False</td>\n",
       "    </tr>\n",
       "    <tr>\n",
       "      <th>2</th>\n",
       "      <td>2020-01-01 07:15:28+00:00</td>\n",
       "      <td>Person search</td>\n",
       "      <td>False</td>\n",
       "      <td>NaN</td>\n",
       "      <td>NaN</td>\n",
       "      <td>Male</td>\n",
       "      <td>18-24</td>\n",
       "      <td>Asian/Asian British - Any other Asian background</td>\n",
       "      <td>Asian</td>\n",
       "      <td>Police and Criminal Evidence Act 1984 (section 1)</td>\n",
       "      <td>Article for use in theft</td>\n",
       "      <td>A no further action disposal</td>\n",
       "      <td>False</td>\n",
       "    </tr>\n",
       "    <tr>\n",
       "      <th>3</th>\n",
       "      <td>2020-01-01 19:49:00+00:00</td>\n",
       "      <td>Person search</td>\n",
       "      <td>True</td>\n",
       "      <td>NaN</td>\n",
       "      <td>NaN</td>\n",
       "      <td>Male</td>\n",
       "      <td>10-17</td>\n",
       "      <td>Mixed/Multiple ethnic groups - Any other Mixed...</td>\n",
       "      <td>Black</td>\n",
       "      <td>Police and Criminal Evidence Act 1984 (section 1)</td>\n",
       "      <td>Offensive weapons</td>\n",
       "      <td>A no further action disposal</td>\n",
       "      <td>False</td>\n",
       "    </tr>\n",
       "    <tr>\n",
       "      <th>4</th>\n",
       "      <td>2020-01-01 21:20:00+00:00</td>\n",
       "      <td>Person and Vehicle search</td>\n",
       "      <td>False</td>\n",
       "      <td>NaN</td>\n",
       "      <td>NaN</td>\n",
       "      <td>Male</td>\n",
       "      <td>10-17</td>\n",
       "      <td>White - Any other White background</td>\n",
       "      <td>White</td>\n",
       "      <td>Misuse of Drugs Act 1971 (section 23)</td>\n",
       "      <td>Controlled drugs</td>\n",
       "      <td>A no further action disposal</td>\n",
       "      <td>False</td>\n",
       "    </tr>\n",
       "  </tbody>\n",
       "</table>\n",
       "</div>"
      ],
      "text/plain": [
       "                       Date                       Type  Part of a policing operation   Latitude  Longitude Gender Age range                             Self-defined ethnicity Officer-defined ethnicity                                        Legislation          Object of search                       Outcome  Removal of more than just outer clothing\n",
       "0 2020-01-01 03:55:00+00:00              Person search                         False        NaN        NaN   Male     18-24  White - English/Welsh/Scottish/Northern Irish/...                     White  Police and Criminal Evidence Act 1984 (section 1)  Article for use in theft  A no further action disposal                                     False\n",
       "1 2020-01-01 04:18:00+00:00              Person search                         False  51.725023  -0.302372   Male     10-17  White - English/Welsh/Scottish/Northern Irish/...                     White  Police and Criminal Evidence Act 1984 (section 1)  Article for use in theft                        Arrest                                     False\n",
       "2 2020-01-01 07:15:28+00:00              Person search                         False        NaN        NaN   Male     18-24   Asian/Asian British - Any other Asian background                     Asian  Police and Criminal Evidence Act 1984 (section 1)  Article for use in theft  A no further action disposal                                     False\n",
       "3 2020-01-01 19:49:00+00:00              Person search                          True        NaN        NaN   Male     10-17  Mixed/Multiple ethnic groups - Any other Mixed...                     Black  Police and Criminal Evidence Act 1984 (section 1)         Offensive weapons  A no further action disposal                                     False\n",
       "4 2020-01-01 21:20:00+00:00  Person and Vehicle search                         False        NaN        NaN   Male     10-17                 White - Any other White background                     White              Misuse of Drugs Act 1971 (section 23)          Controlled drugs  A no further action disposal                                     False"
      ]
     },
     "execution_count": 242,
     "metadata": {},
     "output_type": "execute_result"
    }
   ],
   "source": [
    "df=df.reset_index()\n",
    "df.head()"
   ]
  },
  {
   "cell_type": "code",
   "execution_count": 243,
   "metadata": {},
   "outputs": [
    {
     "data": {
      "text/html": [
       "<div>\n",
       "<style scoped>\n",
       "    .dataframe tbody tr th:only-of-type {\n",
       "        vertical-align: middle;\n",
       "    }\n",
       "\n",
       "    .dataframe tbody tr th {\n",
       "        vertical-align: top;\n",
       "    }\n",
       "\n",
       "    .dataframe thead th {\n",
       "        text-align: right;\n",
       "    }\n",
       "</style>\n",
       "<table border=\"1\" class=\"dataframe\">\n",
       "  <thead>\n",
       "    <tr style=\"text-align: right;\">\n",
       "      <th></th>\n",
       "      <th>Date_Time</th>\n",
       "      <th>Type</th>\n",
       "      <th>Part of a policing operation</th>\n",
       "      <th>Latitude</th>\n",
       "      <th>Longitude</th>\n",
       "      <th>Gender</th>\n",
       "      <th>Age range</th>\n",
       "      <th>Self-defined ethnicity</th>\n",
       "      <th>Officer-defined ethnicity</th>\n",
       "      <th>Legislation</th>\n",
       "      <th>Object of search</th>\n",
       "      <th>Outcome</th>\n",
       "      <th>Removal of more than just outer clothing</th>\n",
       "    </tr>\n",
       "  </thead>\n",
       "  <tbody>\n",
       "    <tr>\n",
       "      <th>0</th>\n",
       "      <td>2020-01-01 03:55:00+00:00</td>\n",
       "      <td>Person search</td>\n",
       "      <td>False</td>\n",
       "      <td>NaN</td>\n",
       "      <td>NaN</td>\n",
       "      <td>Male</td>\n",
       "      <td>18-24</td>\n",
       "      <td>White - English/Welsh/Scottish/Northern Irish/...</td>\n",
       "      <td>White</td>\n",
       "      <td>Police and Criminal Evidence Act 1984 (section 1)</td>\n",
       "      <td>Article for use in theft</td>\n",
       "      <td>A no further action disposal</td>\n",
       "      <td>False</td>\n",
       "    </tr>\n",
       "    <tr>\n",
       "      <th>1</th>\n",
       "      <td>2020-01-01 04:18:00+00:00</td>\n",
       "      <td>Person search</td>\n",
       "      <td>False</td>\n",
       "      <td>51.725023</td>\n",
       "      <td>-0.302372</td>\n",
       "      <td>Male</td>\n",
       "      <td>10-17</td>\n",
       "      <td>White - English/Welsh/Scottish/Northern Irish/...</td>\n",
       "      <td>White</td>\n",
       "      <td>Police and Criminal Evidence Act 1984 (section 1)</td>\n",
       "      <td>Article for use in theft</td>\n",
       "      <td>Arrest</td>\n",
       "      <td>False</td>\n",
       "    </tr>\n",
       "    <tr>\n",
       "      <th>2</th>\n",
       "      <td>2020-01-01 07:15:28+00:00</td>\n",
       "      <td>Person search</td>\n",
       "      <td>False</td>\n",
       "      <td>NaN</td>\n",
       "      <td>NaN</td>\n",
       "      <td>Male</td>\n",
       "      <td>18-24</td>\n",
       "      <td>Asian/Asian British - Any other Asian background</td>\n",
       "      <td>Asian</td>\n",
       "      <td>Police and Criminal Evidence Act 1984 (section 1)</td>\n",
       "      <td>Article for use in theft</td>\n",
       "      <td>A no further action disposal</td>\n",
       "      <td>False</td>\n",
       "    </tr>\n",
       "    <tr>\n",
       "      <th>3</th>\n",
       "      <td>2020-01-01 19:49:00+00:00</td>\n",
       "      <td>Person search</td>\n",
       "      <td>True</td>\n",
       "      <td>NaN</td>\n",
       "      <td>NaN</td>\n",
       "      <td>Male</td>\n",
       "      <td>10-17</td>\n",
       "      <td>Mixed/Multiple ethnic groups - Any other Mixed...</td>\n",
       "      <td>Black</td>\n",
       "      <td>Police and Criminal Evidence Act 1984 (section 1)</td>\n",
       "      <td>Offensive weapons</td>\n",
       "      <td>A no further action disposal</td>\n",
       "      <td>False</td>\n",
       "    </tr>\n",
       "    <tr>\n",
       "      <th>4</th>\n",
       "      <td>2020-01-01 21:20:00+00:00</td>\n",
       "      <td>Person and Vehicle search</td>\n",
       "      <td>False</td>\n",
       "      <td>NaN</td>\n",
       "      <td>NaN</td>\n",
       "      <td>Male</td>\n",
       "      <td>10-17</td>\n",
       "      <td>White - Any other White background</td>\n",
       "      <td>White</td>\n",
       "      <td>Misuse of Drugs Act 1971 (section 23)</td>\n",
       "      <td>Controlled drugs</td>\n",
       "      <td>A no further action disposal</td>\n",
       "      <td>False</td>\n",
       "    </tr>\n",
       "  </tbody>\n",
       "</table>\n",
       "</div>"
      ],
      "text/plain": [
       "                  Date_Time                       Type  Part of a policing operation   Latitude  Longitude Gender Age range                             Self-defined ethnicity Officer-defined ethnicity                                        Legislation          Object of search                       Outcome  Removal of more than just outer clothing\n",
       "0 2020-01-01 03:55:00+00:00              Person search                         False        NaN        NaN   Male     18-24  White - English/Welsh/Scottish/Northern Irish/...                     White  Police and Criminal Evidence Act 1984 (section 1)  Article for use in theft  A no further action disposal                                     False\n",
       "1 2020-01-01 04:18:00+00:00              Person search                         False  51.725023  -0.302372   Male     10-17  White - English/Welsh/Scottish/Northern Irish/...                     White  Police and Criminal Evidence Act 1984 (section 1)  Article for use in theft                        Arrest                                     False\n",
       "2 2020-01-01 07:15:28+00:00              Person search                         False        NaN        NaN   Male     18-24   Asian/Asian British - Any other Asian background                     Asian  Police and Criminal Evidence Act 1984 (section 1)  Article for use in theft  A no further action disposal                                     False\n",
       "3 2020-01-01 19:49:00+00:00              Person search                          True        NaN        NaN   Male     10-17  Mixed/Multiple ethnic groups - Any other Mixed...                     Black  Police and Criminal Evidence Act 1984 (section 1)         Offensive weapons  A no further action disposal                                     False\n",
       "4 2020-01-01 21:20:00+00:00  Person and Vehicle search                         False        NaN        NaN   Male     10-17                 White - Any other White background                     White              Misuse of Drugs Act 1971 (section 23)          Controlled drugs  A no further action disposal                                     False"
      ]
     },
     "execution_count": 243,
     "metadata": {},
     "output_type": "execute_result"
    }
   ],
   "source": [
    "df = df.rename(columns={\"Date\":\"Date_Time\"})\n",
    "df.head()"
   ]
  },
  {
   "cell_type": "code",
   "execution_count": 244,
   "metadata": {},
   "outputs": [
    {
     "data": {
      "text/html": [
       "<div>\n",
       "<style scoped>\n",
       "    .dataframe tbody tr th:only-of-type {\n",
       "        vertical-align: middle;\n",
       "    }\n",
       "\n",
       "    .dataframe tbody tr th {\n",
       "        vertical-align: top;\n",
       "    }\n",
       "\n",
       "    .dataframe thead th {\n",
       "        text-align: right;\n",
       "    }\n",
       "</style>\n",
       "<table border=\"1\" class=\"dataframe\">\n",
       "  <thead>\n",
       "    <tr style=\"text-align: right;\">\n",
       "      <th></th>\n",
       "      <th>Date_Time</th>\n",
       "      <th>Type</th>\n",
       "      <th>Part of a policing operation</th>\n",
       "      <th>Latitude</th>\n",
       "      <th>Longitude</th>\n",
       "      <th>Gender</th>\n",
       "      <th>Age range</th>\n",
       "      <th>Self-defined ethnicity</th>\n",
       "      <th>Officer-defined ethnicity</th>\n",
       "      <th>Legislation</th>\n",
       "      <th>Object of search</th>\n",
       "      <th>Outcome</th>\n",
       "      <th>Removal of more than just outer clothing</th>\n",
       "      <th>is_arrested</th>\n",
       "    </tr>\n",
       "  </thead>\n",
       "  <tbody>\n",
       "    <tr>\n",
       "      <th>0</th>\n",
       "      <td>2020-01-01 03:55:00+00:00</td>\n",
       "      <td>Person search</td>\n",
       "      <td>False</td>\n",
       "      <td>NaN</td>\n",
       "      <td>NaN</td>\n",
       "      <td>Male</td>\n",
       "      <td>18-24</td>\n",
       "      <td>White - English/Welsh/Scottish/Northern Irish/...</td>\n",
       "      <td>White</td>\n",
       "      <td>Police and Criminal Evidence Act 1984 (section 1)</td>\n",
       "      <td>Article for use in theft</td>\n",
       "      <td>A no further action disposal</td>\n",
       "      <td>False</td>\n",
       "      <td>False</td>\n",
       "    </tr>\n",
       "    <tr>\n",
       "      <th>1</th>\n",
       "      <td>2020-01-01 04:18:00+00:00</td>\n",
       "      <td>Person search</td>\n",
       "      <td>False</td>\n",
       "      <td>51.725023</td>\n",
       "      <td>-0.302372</td>\n",
       "      <td>Male</td>\n",
       "      <td>10-17</td>\n",
       "      <td>White - English/Welsh/Scottish/Northern Irish/...</td>\n",
       "      <td>White</td>\n",
       "      <td>Police and Criminal Evidence Act 1984 (section 1)</td>\n",
       "      <td>Article for use in theft</td>\n",
       "      <td>Arrest</td>\n",
       "      <td>False</td>\n",
       "      <td>True</td>\n",
       "    </tr>\n",
       "    <tr>\n",
       "      <th>2</th>\n",
       "      <td>2020-01-01 07:15:28+00:00</td>\n",
       "      <td>Person search</td>\n",
       "      <td>False</td>\n",
       "      <td>NaN</td>\n",
       "      <td>NaN</td>\n",
       "      <td>Male</td>\n",
       "      <td>18-24</td>\n",
       "      <td>Asian/Asian British - Any other Asian background</td>\n",
       "      <td>Asian</td>\n",
       "      <td>Police and Criminal Evidence Act 1984 (section 1)</td>\n",
       "      <td>Article for use in theft</td>\n",
       "      <td>A no further action disposal</td>\n",
       "      <td>False</td>\n",
       "      <td>False</td>\n",
       "    </tr>\n",
       "    <tr>\n",
       "      <th>3</th>\n",
       "      <td>2020-01-01 19:49:00+00:00</td>\n",
       "      <td>Person search</td>\n",
       "      <td>True</td>\n",
       "      <td>NaN</td>\n",
       "      <td>NaN</td>\n",
       "      <td>Male</td>\n",
       "      <td>10-17</td>\n",
       "      <td>Mixed/Multiple ethnic groups - Any other Mixed...</td>\n",
       "      <td>Black</td>\n",
       "      <td>Police and Criminal Evidence Act 1984 (section 1)</td>\n",
       "      <td>Offensive weapons</td>\n",
       "      <td>A no further action disposal</td>\n",
       "      <td>False</td>\n",
       "      <td>False</td>\n",
       "    </tr>\n",
       "    <tr>\n",
       "      <th>4</th>\n",
       "      <td>2020-01-01 21:20:00+00:00</td>\n",
       "      <td>Person and Vehicle search</td>\n",
       "      <td>False</td>\n",
       "      <td>NaN</td>\n",
       "      <td>NaN</td>\n",
       "      <td>Male</td>\n",
       "      <td>10-17</td>\n",
       "      <td>White - Any other White background</td>\n",
       "      <td>White</td>\n",
       "      <td>Misuse of Drugs Act 1971 (section 23)</td>\n",
       "      <td>Controlled drugs</td>\n",
       "      <td>A no further action disposal</td>\n",
       "      <td>False</td>\n",
       "      <td>False</td>\n",
       "    </tr>\n",
       "  </tbody>\n",
       "</table>\n",
       "</div>"
      ],
      "text/plain": [
       "                  Date_Time                       Type  Part of a policing operation   Latitude  Longitude Gender Age range                             Self-defined ethnicity Officer-defined ethnicity                                        Legislation          Object of search                       Outcome  Removal of more than just outer clothing  is_arrested\n",
       "0 2020-01-01 03:55:00+00:00              Person search                         False        NaN        NaN   Male     18-24  White - English/Welsh/Scottish/Northern Irish/...                     White  Police and Criminal Evidence Act 1984 (section 1)  Article for use in theft  A no further action disposal                                     False        False\n",
       "1 2020-01-01 04:18:00+00:00              Person search                         False  51.725023  -0.302372   Male     10-17  White - English/Welsh/Scottish/Northern Irish/...                     White  Police and Criminal Evidence Act 1984 (section 1)  Article for use in theft                        Arrest                                     False         True\n",
       "2 2020-01-01 07:15:28+00:00              Person search                         False        NaN        NaN   Male     18-24   Asian/Asian British - Any other Asian background                     Asian  Police and Criminal Evidence Act 1984 (section 1)  Article for use in theft  A no further action disposal                                     False        False\n",
       "3 2020-01-01 19:49:00+00:00              Person search                          True        NaN        NaN   Male     10-17  Mixed/Multiple ethnic groups - Any other Mixed...                     Black  Police and Criminal Evidence Act 1984 (section 1)         Offensive weapons  A no further action disposal                                     False        False\n",
       "4 2020-01-01 21:20:00+00:00  Person and Vehicle search                         False        NaN        NaN   Male     10-17                 White - Any other White background                     White              Misuse of Drugs Act 1971 (section 23)          Controlled drugs  A no further action disposal                                     False        False"
      ]
     },
     "execution_count": 244,
     "metadata": {},
     "output_type": "execute_result"
    }
   ],
   "source": [
    "df['is_arrested'] =(df['Outcome']=='Arrest')\n",
    "df.head()"
   ]
  },
  {
   "cell_type": "code",
   "execution_count": 245,
   "metadata": {},
   "outputs": [],
   "source": [
    "df['Hour'] = df['Date_Time'].dt.hour"
   ]
  },
  {
   "cell_type": "code",
   "execution_count": 246,
   "metadata": {},
   "outputs": [],
   "source": [
    "hourly_arrested_rate = df.groupby(df['Date_Time'].dt.hour).is_arrested.mean()"
   ]
  },
  {
   "cell_type": "code",
   "execution_count": 247,
   "metadata": {},
   "outputs": [
    {
     "data": {
      "text/plain": [
       "Text(0.5, 1.0, 'hourly arrested rate')"
      ]
     },
     "execution_count": 247,
     "metadata": {},
     "output_type": "execute_result"
    },
    {
     "data": {
      "image/png": "[encoded data removed]",
      "text/plain": [
       "<Figure size 576x396 with 1 Axes>"
      ]
     },
     "metadata": {},
     "output_type": "display_data"
    }
   ],
   "source": [
    "hourly_arrested_rate.plot()\n",
    "plt.xlabel('hour')\n",
    "plt.ylabel('arrested rate')\n",
    "plt.title('hourly arrested rate')"
   ]
  },
  {
   "cell_type": "markdown",
   "metadata": {},
   "source": [
    "- Observation: The above showed the arrested rate seems to be high in the early morning. Perhaps we shall look at stop_search rate"
   ]
  },
  {
   "cell_type": "markdown",
   "metadata": {},
   "source": [
    "### Q5 Is the drug related cases on the rise? "
   ]
  },
  {
   "cell_type": "code",
   "execution_count": 290,
   "metadata": {},
   "outputs": [
    {
     "data": {
      "text/plain": [
       "[Date_Time\n",
       " 2020-01-01 03:55:00+00:00    False\n",
       " 2020-01-01 04:18:00+00:00    False\n",
       " 2020-01-01 07:15:28+00:00    False\n",
       " 2020-01-01 19:49:00+00:00    False\n",
       " 2020-01-01 21:20:00+00:00    False\n",
       "                              ...  \n",
       " 2020-12-31 18:15:00+00:00    False\n",
       " 2020-12-31 23:50:00+00:00    False\n",
       " 2020-12-31 23:50:00+00:00    False\n",
       " 2020-12-31 23:50:00+00:00    False\n",
       " 2020-12-31 23:50:00+00:00    False\n",
       " Length: 8383, dtype: bool]"
      ]
     },
     "execution_count": 290,
     "metadata": {},
     "output_type": "execute_result"
    }
   ],
   "source": [
    "# First of all create a column called 'drug_offence' and make it a boolean\n",
    "\n",
    "\n",
    "drug_offence_list = [(df['Legislation']=='Misuse of Drugs Act 1971 (section 23)') & (df['Outcome']!='A no further action disposal')]\n",
    "drug_offence_list"
   ]
  },
  {
   "cell_type": "code",
   "execution_count": 291,
   "metadata": {
    "scrolled": false
   },
   "outputs": [
    {
     "data": {
      "text/html": [
       "<div>\n",
       "<style scoped>\n",
       "    .dataframe tbody tr th:only-of-type {\n",
       "        vertical-align: middle;\n",
       "    }\n",
       "\n",
       "    .dataframe tbody tr th {\n",
       "        vertical-align: top;\n",
       "    }\n",
       "\n",
       "    .dataframe thead th {\n",
       "        text-align: right;\n",
       "    }\n",
       "</style>\n",
       "<table border=\"1\" class=\"dataframe\">\n",
       "  <thead>\n",
       "    <tr style=\"text-align: right;\">\n",
       "      <th></th>\n",
       "      <th>Type</th>\n",
       "      <th>Part of a policing operation</th>\n",
       "      <th>Latitude</th>\n",
       "      <th>Longitude</th>\n",
       "      <th>Gender</th>\n",
       "      <th>Age range</th>\n",
       "      <th>Self-defined ethnicity</th>\n",
       "      <th>Officer-defined ethnicity</th>\n",
       "      <th>Legislation</th>\n",
       "      <th>Object of search</th>\n",
       "      <th>Outcome</th>\n",
       "      <th>Removal of more than just outer clothing</th>\n",
       "      <th>is_arrested</th>\n",
       "      <th>Hour</th>\n",
       "      <th>drug_offence</th>\n",
       "      <th>offence</th>\n",
       "    </tr>\n",
       "    <tr>\n",
       "      <th>Date_Time</th>\n",
       "      <th></th>\n",
       "      <th></th>\n",
       "      <th></th>\n",
       "      <th></th>\n",
       "      <th></th>\n",
       "      <th></th>\n",
       "      <th></th>\n",
       "      <th></th>\n",
       "      <th></th>\n",
       "      <th></th>\n",
       "      <th></th>\n",
       "      <th></th>\n",
       "      <th></th>\n",
       "      <th></th>\n",
       "      <th></th>\n",
       "      <th></th>\n",
       "    </tr>\n",
       "  </thead>\n",
       "  <tbody>\n",
       "    <tr>\n",
       "      <th>2020-01-01 03:55:00+00:00</th>\n",
       "      <td>Person search</td>\n",
       "      <td>False</td>\n",
       "      <td>NaN</td>\n",
       "      <td>NaN</td>\n",
       "      <td>Male</td>\n",
       "      <td>18-24</td>\n",
       "      <td>White - English/Welsh/Scottish/Northern Irish/...</td>\n",
       "      <td>White</td>\n",
       "      <td>Police and Criminal Evidence Act 1984 (section 1)</td>\n",
       "      <td>Article for use in theft</td>\n",
       "      <td>A no further action disposal</td>\n",
       "      <td>False</td>\n",
       "      <td>False</td>\n",
       "      <td>3</td>\n",
       "      <td>False</td>\n",
       "      <td>False</td>\n",
       "    </tr>\n",
       "    <tr>\n",
       "      <th>2020-01-01 04:18:00+00:00</th>\n",
       "      <td>Person search</td>\n",
       "      <td>False</td>\n",
       "      <td>51.725023</td>\n",
       "      <td>-0.302372</td>\n",
       "      <td>Male</td>\n",
       "      <td>10-17</td>\n",
       "      <td>White - English/Welsh/Scottish/Northern Irish/...</td>\n",
       "      <td>White</td>\n",
       "      <td>Police and Criminal Evidence Act 1984 (section 1)</td>\n",
       "      <td>Article for use in theft</td>\n",
       "      <td>Arrest</td>\n",
       "      <td>False</td>\n",
       "      <td>True</td>\n",
       "      <td>4</td>\n",
       "      <td>False</td>\n",
       "      <td>True</td>\n",
       "    </tr>\n",
       "    <tr>\n",
       "      <th>2020-01-01 07:15:28+00:00</th>\n",
       "      <td>Person search</td>\n",
       "      <td>False</td>\n",
       "      <td>NaN</td>\n",
       "      <td>NaN</td>\n",
       "      <td>Male</td>\n",
       "      <td>18-24</td>\n",
       "      <td>Asian/Asian British - Any other Asian background</td>\n",
       "      <td>Asian</td>\n",
       "      <td>Police and Criminal Evidence Act 1984 (section 1)</td>\n",
       "      <td>Article for use in theft</td>\n",
       "      <td>A no further action disposal</td>\n",
       "      <td>False</td>\n",
       "      <td>False</td>\n",
       "      <td>7</td>\n",
       "      <td>False</td>\n",
       "      <td>False</td>\n",
       "    </tr>\n",
       "  </tbody>\n",
       "</table>\n",
       "</div>"
      ],
      "text/plain": [
       "                                    Type  Part of a policing operation   Latitude  Longitude Gender Age range                             Self-defined ethnicity Officer-defined ethnicity                                        Legislation          Object of search                       Outcome  Removal of more than just outer clothing  is_arrested  Hour  drug_offence  offence\n",
       "Date_Time                                                                                                                                                                                                                                                                                                                                                                                \n",
       "2020-01-01 03:55:00+00:00  Person search                         False        NaN        NaN   Male     18-24  White - English/Welsh/Scottish/Northern Irish/...                     White  Police and Criminal Evidence Act 1984 (section 1)  Article for use in theft  A no further action disposal                                     False        False     3         False    False\n",
       "2020-01-01 04:18:00+00:00  Person search                         False  51.725023  -0.302372   Male     10-17  White - English/Welsh/Scottish/Northern Irish/...                     White  Police and Criminal Evidence Act 1984 (section 1)  Article for use in theft                        Arrest                                     False         True     4         False     True\n",
       "2020-01-01 07:15:28+00:00  Person search                         False        NaN        NaN   Male     18-24   Asian/Asian British - Any other Asian background                     Asian  Police and Criminal Evidence Act 1984 (section 1)  Article for use in theft  A no further action disposal                                     False        False     7         False    False"
      ]
     },
     "execution_count": 291,
     "metadata": {},
     "output_type": "execute_result"
    }
   ],
   "source": [
    "from numpy import array\n",
    "drug_offence_list = np.array(drug_offence_list)\n",
    "drug_offence_list.shape\n",
    "drug_offence_list.shape=(8383,1)\n",
    "df['drug_offence'] =drug_offence_list\n",
    "df.head(3)"
   ]
  },
  {
   "cell_type": "code",
   "execution_count": 292,
   "metadata": {},
   "outputs": [
    {
     "ename": "KeyError",
     "evalue": "\"None of ['Date_Time'] are in the columns\"",
     "output_type": "error",
     "traceback": [
      "\u001b[1;31m---------------------------------------------------------------------------\u001b[0m",
      "\u001b[1;31mKeyError\u001b[0m                                  Traceback (most recent call last)",
      "\u001b[1;32m<ipython-input-292-03fbcd0a234d>\u001b[0m in \u001b[0;36m<module>\u001b[1;34m\u001b[0m\n\u001b[1;32m----> 1\u001b[1;33m \u001b[0mdf\u001b[0m\u001b[1;33m.\u001b[0m\u001b[0mset_index\u001b[0m\u001b[1;33m(\u001b[0m\u001b[1;34m'Date_Time'\u001b[0m\u001b[1;33m,\u001b[0m\u001b[0minplace\u001b[0m\u001b[1;33m=\u001b[0m\u001b[1;32mTrue\u001b[0m\u001b[1;33m)\u001b[0m\u001b[1;33m\u001b[0m\u001b[1;33m\u001b[0m\u001b[0m\n\u001b[0m",
      "\u001b[1;32m~\\Anaconda3\\envs\\ads08\\lib\\site-packages\\pandas\\core\\frame.py\u001b[0m in \u001b[0;36mset_index\u001b[1;34m(self, keys, drop, append, inplace, verify_integrity)\u001b[0m\n\u001b[0;32m   4301\u001b[0m \u001b[1;33m\u001b[0m\u001b[0m\n\u001b[0;32m   4302\u001b[0m         \u001b[1;32mif\u001b[0m \u001b[0mmissing\u001b[0m\u001b[1;33m:\u001b[0m\u001b[1;33m\u001b[0m\u001b[1;33m\u001b[0m\u001b[0m\n\u001b[1;32m-> 4303\u001b[1;33m             \u001b[1;32mraise\u001b[0m \u001b[0mKeyError\u001b[0m\u001b[1;33m(\u001b[0m\u001b[1;34mf\"None of {missing} are in the columns\"\u001b[0m\u001b[1;33m)\u001b[0m\u001b[1;33m\u001b[0m\u001b[1;33m\u001b[0m\u001b[0m\n\u001b[0m\u001b[0;32m   4304\u001b[0m \u001b[1;33m\u001b[0m\u001b[0m\n\u001b[0;32m   4305\u001b[0m         \u001b[1;32mif\u001b[0m \u001b[0minplace\u001b[0m\u001b[1;33m:\u001b[0m\u001b[1;33m\u001b[0m\u001b[1;33m\u001b[0m\u001b[0m\n",
      "\u001b[1;31mKeyError\u001b[0m: \"None of ['Date_Time'] are in the columns\""
     ]
    }
   ],
   "source": [
    "df.set_index('Date_Time',inplace=True)"
   ]
  },
  {
   "cell_type": "code",
   "execution_count": 293,
   "metadata": {},
   "outputs": [],
   "source": [
    "month_drug_rate = df.drug_offence.resample('M').mean()"
   ]
  },
  {
   "cell_type": "code",
   "execution_count": 294,
   "metadata": {},
   "outputs": [
    {
     "data": {
      "text/plain": [
       "Date_Time\n",
       "2020-01-31 00:00:00+00:00    0.186944\n",
       "2020-02-29 00:00:00+00:00    0.153846\n",
       "2020-03-31 00:00:00+00:00    0.159247\n",
       "2020-04-30 00:00:00+00:00    0.228610\n",
       "2020-05-31 00:00:00+00:00    0.176533\n",
       "2020-06-30 00:00:00+00:00    0.154444\n",
       "2020-07-31 00:00:00+00:00    0.159884\n",
       "2020-08-31 00:00:00+00:00    0.174298\n",
       "2020-09-30 00:00:00+00:00    0.185065\n",
       "2020-10-31 00:00:00+00:00    0.172727\n",
       "2020-11-30 00:00:00+00:00    0.195059\n",
       "2020-12-31 00:00:00+00:00    0.187296\n",
       "Freq: M, Name: drug_offence, dtype: float64"
      ]
     },
     "execution_count": 294,
     "metadata": {},
     "output_type": "execute_result"
    }
   ],
   "source": [
    "month_drug_rate"
   ]
  },
  {
   "cell_type": "code",
   "execution_count": 295,
   "metadata": {},
   "outputs": [
    {
     "data": {
      "text/plain": [
       "Text(0.5, 1.0, 'drug offence rate')"
      ]
     },
     "execution_count": 295,
     "metadata": {},
     "output_type": "execute_result"
    },
    {
     "data": {
      "image/png": "[encoded data removed]",
      "text/plain": [
       "<Figure size 576x396 with 1 Axes>"
      ]
     },
     "metadata": {},
     "output_type": "display_data"
    }
   ],
   "source": [
    "month_drug_rate.plot()\n",
    "plt.xlabel('month')\n",
    "plt.ylabel('drug offence rate')\n",
    "plt.title('drug offence rate')\n"
   ]
  },
  {
   "cell_type": "code",
   "execution_count": null,
   "metadata": {},
   "outputs": [],
   "source": [
    "### Observation: \n",
    "- The drug offence peaked in April just before the 1st lockdown, it suggested the users wanted to get more deals done before the lockdown.\n",
    "- In june there was a climb when the 1st lockdown eased. It made sense. "
   ]
  },
  {
   "cell_type": "code",
   "execution_count": 296,
   "metadata": {},
   "outputs": [
    {
     "data": {
      "text/plain": [
       "[Date_Time\n",
       " 2020-01-01 03:55:00+00:00    False\n",
       " 2020-01-01 04:18:00+00:00     True\n",
       " 2020-01-01 07:15:28+00:00    False\n",
       " 2020-01-01 19:49:00+00:00    False\n",
       " 2020-01-01 21:20:00+00:00    False\n",
       "                              ...  \n",
       " 2020-12-31 18:15:00+00:00    False\n",
       " 2020-12-31 23:50:00+00:00    False\n",
       " 2020-12-31 23:50:00+00:00    False\n",
       " 2020-12-31 23:50:00+00:00    False\n",
       " 2020-12-31 23:50:00+00:00    False\n",
       " Name: Outcome, Length: 8383, dtype: bool]"
      ]
     },
     "execution_count": 296,
     "metadata": {},
     "output_type": "execute_result"
    }
   ],
   "source": [
    "offence = [df['Outcome']!='A no further action disposal']\n",
    "offence"
   ]
  },
  {
   "cell_type": "code",
   "execution_count": 297,
   "metadata": {},
   "outputs": [
    {
     "data": {
      "text/plain": [
       "(1, 8383)"
      ]
     },
     "execution_count": 297,
     "metadata": {},
     "output_type": "execute_result"
    }
   ],
   "source": [
    "offence=np.array(offence)\n",
    "offence.shape"
   ]
  },
  {
   "cell_type": "code",
   "execution_count": 298,
   "metadata": {},
   "outputs": [
    {
     "data": {
      "text/html": [
       "<div>\n",
       "<style scoped>\n",
       "    .dataframe tbody tr th:only-of-type {\n",
       "        vertical-align: middle;\n",
       "    }\n",
       "\n",
       "    .dataframe tbody tr th {\n",
       "        vertical-align: top;\n",
       "    }\n",
       "\n",
       "    .dataframe thead th {\n",
       "        text-align: right;\n",
       "    }\n",
       "</style>\n",
       "<table border=\"1\" class=\"dataframe\">\n",
       "  <thead>\n",
       "    <tr style=\"text-align: right;\">\n",
       "      <th></th>\n",
       "      <th>Type</th>\n",
       "      <th>Part of a policing operation</th>\n",
       "      <th>Latitude</th>\n",
       "      <th>Longitude</th>\n",
       "      <th>Gender</th>\n",
       "      <th>Age range</th>\n",
       "      <th>Self-defined ethnicity</th>\n",
       "      <th>Officer-defined ethnicity</th>\n",
       "      <th>Legislation</th>\n",
       "      <th>Object of search</th>\n",
       "      <th>Outcome</th>\n",
       "      <th>Removal of more than just outer clothing</th>\n",
       "      <th>is_arrested</th>\n",
       "      <th>Hour</th>\n",
       "      <th>drug_offence</th>\n",
       "      <th>offence</th>\n",
       "    </tr>\n",
       "    <tr>\n",
       "      <th>Date_Time</th>\n",
       "      <th></th>\n",
       "      <th></th>\n",
       "      <th></th>\n",
       "      <th></th>\n",
       "      <th></th>\n",
       "      <th></th>\n",
       "      <th></th>\n",
       "      <th></th>\n",
       "      <th></th>\n",
       "      <th></th>\n",
       "      <th></th>\n",
       "      <th></th>\n",
       "      <th></th>\n",
       "      <th></th>\n",
       "      <th></th>\n",
       "      <th></th>\n",
       "    </tr>\n",
       "  </thead>\n",
       "  <tbody>\n",
       "    <tr>\n",
       "      <th>2020-01-01 03:55:00+00:00</th>\n",
       "      <td>Person search</td>\n",
       "      <td>False</td>\n",
       "      <td>NaN</td>\n",
       "      <td>NaN</td>\n",
       "      <td>Male</td>\n",
       "      <td>18-24</td>\n",
       "      <td>White - English/Welsh/Scottish/Northern Irish/...</td>\n",
       "      <td>White</td>\n",
       "      <td>Police and Criminal Evidence Act 1984 (section 1)</td>\n",
       "      <td>Article for use in theft</td>\n",
       "      <td>A no further action disposal</td>\n",
       "      <td>False</td>\n",
       "      <td>False</td>\n",
       "      <td>3</td>\n",
       "      <td>False</td>\n",
       "      <td>False</td>\n",
       "    </tr>\n",
       "    <tr>\n",
       "      <th>2020-01-01 04:18:00+00:00</th>\n",
       "      <td>Person search</td>\n",
       "      <td>False</td>\n",
       "      <td>51.725023</td>\n",
       "      <td>-0.302372</td>\n",
       "      <td>Male</td>\n",
       "      <td>10-17</td>\n",
       "      <td>White - English/Welsh/Scottish/Northern Irish/...</td>\n",
       "      <td>White</td>\n",
       "      <td>Police and Criminal Evidence Act 1984 (section 1)</td>\n",
       "      <td>Article for use in theft</td>\n",
       "      <td>Arrest</td>\n",
       "      <td>False</td>\n",
       "      <td>True</td>\n",
       "      <td>4</td>\n",
       "      <td>False</td>\n",
       "      <td>True</td>\n",
       "    </tr>\n",
       "    <tr>\n",
       "      <th>2020-01-01 07:15:28+00:00</th>\n",
       "      <td>Person search</td>\n",
       "      <td>False</td>\n",
       "      <td>NaN</td>\n",
       "      <td>NaN</td>\n",
       "      <td>Male</td>\n",
       "      <td>18-24</td>\n",
       "      <td>Asian/Asian British - Any other Asian background</td>\n",
       "      <td>Asian</td>\n",
       "      <td>Police and Criminal Evidence Act 1984 (section 1)</td>\n",
       "      <td>Article for use in theft</td>\n",
       "      <td>A no further action disposal</td>\n",
       "      <td>False</td>\n",
       "      <td>False</td>\n",
       "      <td>7</td>\n",
       "      <td>False</td>\n",
       "      <td>False</td>\n",
       "    </tr>\n",
       "    <tr>\n",
       "      <th>2020-01-01 19:49:00+00:00</th>\n",
       "      <td>Person search</td>\n",
       "      <td>True</td>\n",
       "      <td>NaN</td>\n",
       "      <td>NaN</td>\n",
       "      <td>Male</td>\n",
       "      <td>10-17</td>\n",
       "      <td>Mixed/Multiple ethnic groups - Any other Mixed...</td>\n",
       "      <td>Black</td>\n",
       "      <td>Police and Criminal Evidence Act 1984 (section 1)</td>\n",
       "      <td>Offensive weapons</td>\n",
       "      <td>A no further action disposal</td>\n",
       "      <td>False</td>\n",
       "      <td>False</td>\n",
       "      <td>19</td>\n",
       "      <td>False</td>\n",
       "      <td>False</td>\n",
       "    </tr>\n",
       "    <tr>\n",
       "      <th>2020-01-01 21:20:00+00:00</th>\n",
       "      <td>Person and Vehicle search</td>\n",
       "      <td>False</td>\n",
       "      <td>NaN</td>\n",
       "      <td>NaN</td>\n",
       "      <td>Male</td>\n",
       "      <td>10-17</td>\n",
       "      <td>White - Any other White background</td>\n",
       "      <td>White</td>\n",
       "      <td>Misuse of Drugs Act 1971 (section 23)</td>\n",
       "      <td>Controlled drugs</td>\n",
       "      <td>A no further action disposal</td>\n",
       "      <td>False</td>\n",
       "      <td>False</td>\n",
       "      <td>21</td>\n",
       "      <td>False</td>\n",
       "      <td>False</td>\n",
       "    </tr>\n",
       "  </tbody>\n",
       "</table>\n",
       "</div>"
      ],
      "text/plain": [
       "                                                Type  Part of a policing operation   Latitude  Longitude Gender Age range                             Self-defined ethnicity Officer-defined ethnicity                                        Legislation          Object of search                       Outcome  Removal of more than just outer clothing  is_arrested  Hour  drug_offence  offence\n",
       "Date_Time                                                                                                                                                                                                                                                                                                                                                                                            \n",
       "2020-01-01 03:55:00+00:00              Person search                         False        NaN        NaN   Male     18-24  White - English/Welsh/Scottish/Northern Irish/...                     White  Police and Criminal Evidence Act 1984 (section 1)  Article for use in theft  A no further action disposal                                     False        False     3         False    False\n",
       "2020-01-01 04:18:00+00:00              Person search                         False  51.725023  -0.302372   Male     10-17  White - English/Welsh/Scottish/Northern Irish/...                     White  Police and Criminal Evidence Act 1984 (section 1)  Article for use in theft                        Arrest                                     False         True     4         False     True\n",
       "2020-01-01 07:15:28+00:00              Person search                         False        NaN        NaN   Male     18-24   Asian/Asian British - Any other Asian background                     Asian  Police and Criminal Evidence Act 1984 (section 1)  Article for use in theft  A no further action disposal                                     False        False     7         False    False\n",
       "2020-01-01 19:49:00+00:00              Person search                          True        NaN        NaN   Male     10-17  Mixed/Multiple ethnic groups - Any other Mixed...                     Black  Police and Criminal Evidence Act 1984 (section 1)         Offensive weapons  A no further action disposal                                     False        False    19         False    False\n",
       "2020-01-01 21:20:00+00:00  Person and Vehicle search                         False        NaN        NaN   Male     10-17                 White - Any other White background                     White              Misuse of Drugs Act 1971 (section 23)          Controlled drugs  A no further action disposal                                     False        False    21         False    False"
      ]
     },
     "execution_count": 298,
     "metadata": {},
     "output_type": "execute_result"
    }
   ],
   "source": [
    "offence.shape=(8383,1)\n",
    "df['offence']=offence\n",
    "df.head()"
   ]
  },
  {
   "cell_type": "code",
   "execution_count": 299,
   "metadata": {},
   "outputs": [
    {
     "data": {
      "text/plain": [
       "Date_Time\n",
       "2020-01-31 00:00:00+00:00    0.262611\n",
       "2020-02-29 00:00:00+00:00    0.228797\n",
       "2020-03-31 00:00:00+00:00    0.231164\n",
       "2020-04-30 00:00:00+00:00    0.278075\n",
       "2020-05-31 00:00:00+00:00    0.237844\n",
       "2020-06-30 00:00:00+00:00    0.218889\n",
       "2020-07-31 00:00:00+00:00    0.231105\n",
       "2020-08-31 00:00:00+00:00    0.225997\n",
       "2020-09-30 00:00:00+00:00    0.256494\n",
       "2020-10-31 00:00:00+00:00    0.253030\n",
       "2020-11-30 00:00:00+00:00    0.254876\n",
       "2020-12-31 00:00:00+00:00    0.249186\n",
       "Freq: M, Name: offence, dtype: float64"
      ]
     },
     "execution_count": 299,
     "metadata": {},
     "output_type": "execute_result"
    }
   ],
   "source": [
    "month_offence_rate=df.offence.resample('M').mean()\n",
    "month_offence_rate"
   ]
  },
  {
   "cell_type": "code",
   "execution_count": 300,
   "metadata": {},
   "outputs": [
    {
     "data": {
      "text/plain": [
       "array([<AxesSubplot:xlabel='Date_Time'>, <AxesSubplot:xlabel='Date_Time'>],\n",
       "      dtype=object)"
      ]
     },
     "execution_count": 300,
     "metadata": {},
     "output_type": "execute_result"
    },
    {
     "data": {
      "image/png": "[encoded data removed]",
      "text/plain": [
       "<Figure size 576x396 with 2 Axes>"
      ]
     },
     "metadata": {},
     "output_type": "display_data"
    }
   ],
   "source": [
    "month = pd.concat([month_offence_rate, month_drug_rate],axis=1)\n",
    "month.plot(subplots=True)"
   ]
  },
  {
   "cell_type": "code",
   "execution_count": null,
   "metadata": {},
   "outputs": [],
   "source": [
    "### Observation:\n",
    "The above seems to suggest these two types of crimes go hand in hand with each other. "
   ]
  },
  {
   "cell_type": "code",
   "execution_count": null,
   "metadata": {},
   "outputs": [],
   "source": []
  },
  {
   "cell_type": "code",
   "execution_count": null,
   "metadata": {},
   "outputs": [],
   "source": [
    "Conclusion: \n",
    "    - In all suspect, the White has the highest stop_and_search rate.\n",
    "    - Among them, they all have the same subsequent clear-up rate\n",
    "    - The most likely crime female suspects is drug related, no evidence suggested them carry weapon. \n",
    "    - Most of the arrests happen in the morning during the day\n",
    "    - Female suspect has 10% higher rate of let go than male suspect\n",
    "    "
   ]
  },
  {
   "cell_type": "code",
   "execution_count": null,
   "metadata": {},
   "outputs": [],
   "source": []
  },
  {
   "cell_type": "code",
   "execution_count": null,
   "metadata": {},
   "outputs": [],
   "source": []
  },
  {
   "cell_type": "markdown",
   "metadata": {},
   "source": [
    "### Test"
   ]
  },
  {
   "cell_type": "code",
   "execution_count": null,
   "metadata": {},
   "outputs": [],
   "source": [
    "df.isnull().sum()"
   ]
  },
  {
   "cell_type": "code",
   "execution_count": null,
   "metadata": {},
   "outputs": [],
   "source": [
    "df.info()"
   ]
  },
  {
   "cell_type": "code",
   "execution_count": null,
   "metadata": {},
   "outputs": [],
   "source": []
  }
 ],
 "metadata": {
  "kernelspec": {
   "display_name": "Python 3",
   "language": "python",
   "name": "python3"
  },
  "language_info": {
   "codemirror_mode": {
    "name": "ipython",
    "version": 3
   },
   "file_extension": ".py",
   "mimetype": "text/x-python",
   "name": "python",
   "nbconvert_exporter": "python",
   "pygments_lexer": "ipython3",
   "version": "3.6.8"
  }
 },
 "nbformat": 4,
 "nbformat_minor": 2
}
